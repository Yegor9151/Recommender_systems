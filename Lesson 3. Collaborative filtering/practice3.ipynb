{
 "cells": [
  {
   "cell_type": "markdown",
   "metadata": {},
   "source": [
    "## 1. В чем принципиальные отличия item-item рекомендаций от ALS?"
   ]
  },
  {
   "cell_type": "markdown",
   "metadata": {},
   "source": [
    "##### ответ:\n",
    "\n",
    "- __item-item recommender__ - это аналог алгоритма __KNN__, то есть алгоритма ближайших соседей, но модифицированный на очень большие расстояния между объектами. Если объекты попадают между средним значением соседей, то они считаются схожими. Учит рейтинг.\n",
    "- __ALS__ - этот алгоритм находит приближенные разложения изначальной - разреженной матрицы, вместо того, что бы искать объекты в этой матрице напрямую, по сути уменьшает размерность изначальной матрицы разбивая ее на 2 более узкие в которой количество взаимодействий и не взаимодействий 50/50%. Является алгоритмом оптимизации, для поиска значений по координатам векторов. Веса будут зависеть от координат настраиваемых вручную и фактическим расположением факта взаимодействия пользователя с товаром. Учит факт взаимодействия, чем он чаще, тем вес ошибки больше. Очень быстрый алгоритм."
   ]
  },
  {
   "cell_type": "markdown",
   "metadata": {},
   "source": [
    "## 2. Приведите 3 примера весов user-item матрицы для задачи рекоммендаций товаров"
   ]
  },
  {
   "cell_type": "markdown",
   "metadata": {},
   "source": [
    "##### ответ:\n",
    "- Взаимодействие пользователя с кантентом в соц сетях: нравится - не нравится, репост - или нет, коммент - или нет.\n",
    "- Факт покупки товара: купил первый товар или второй, добавил в карзину первый товар или второй.\n",
    "- Просмотр страничек или посещение сайтов переходы по ссылкам: прошол по ссылке на сайт или нет.\n",
    "- Фильстрация писем: добавил письмо в спам или нет."
   ]
  },
  {
   "cell_type": "markdown",
   "metadata": {},
   "source": [
    "## 3. Какие ограничения есть у ALS? (Тип информации, линейность/нелинейность факторов и т д)"
   ]
  },
  {
   "cell_type": "markdown",
   "metadata": {},
   "source": [
    "##### ответ:\n",
    "- Считает лишь факт взаимодействия пользователя с товаром, но веса зависят от количества взаимодействий.\n",
    "- Строковые значения передавать нельзя, если есть строковые значения их надо рекодировать в категории целочисленного типа\n",
    "- После уменьшения размерности матрици на 2 более узких, обратно целую матрицу восстановить уже нельзя."
   ]
  },
  {
   "cell_type": "markdown",
   "metadata": {},
   "source": [
    "## 4. Мы рассматривали bm_25_weight. Опишите, как оно работает. Как сделать рекомендации только на основе bm_25? (Можно и нужно пользоваться любыми источниками, приложите на них ссылки)"
   ]
  },
  {
   "cell_type": "markdown",
   "metadata": {},
   "source": [
    "- Взвешивает каждую отдельную строку разреженной(изначальной) матрицы пользователь-предмет взвешиванием BM25.\n",
    "\n",
    "##### Ниже приведен код раскомментированный код взятый со странички git hub"
   ]
  },
  {
   "cell_type": "code",
   "execution_count": 1,
   "metadata": {},
   "outputs": [],
   "source": [
    "import numpy as np\n",
    "import pandas as pd\n",
    "from scipy.sparse import coo_matrix"
   ]
  },
  {
   "cell_type": "code",
   "execution_count": 2,
   "metadata": {},
   "outputs": [
    {
     "data": {
      "text/plain": [
       "array([[ 0,  1,  2,  3],\n",
       "       [ 4,  5,  6,  7],\n",
       "       [ 8,  9, 10, 11]])"
      ]
     },
     "execution_count": 2,
     "metadata": {},
     "output_type": "execute_result"
    }
   ],
   "source": [
    "test = np.arange(12).reshape(3,4)\n",
    "test"
   ]
  },
  {
   "cell_type": "code",
   "execution_count": 10,
   "metadata": {},
   "outputs": [],
   "source": [
    "def bm25_weight(X, K1=100, B=0.8):\n",
    "    \"\"\" Weighs each row of a sparse matrix X  by BM25 weighting \"\"\"\n",
    "    \n",
    "    # calculate idf per term (user)\n",
    "    X = coo_matrix(X) # матрица переводится в формат матрицы типа np.array, но модифицированный под scipy\n",
    "\n",
    "    N = float(X.shape[0])  # принимаются строки матрицы в формате float\n",
    "    binc = np.bincount(X.col) # подсчитывается количество вхождений каждого объекта в строке\n",
    "    idf = np.log(N) - np.log(1 + binc) # из логарифма по количеству строк матрицы\n",
    "                                 # вычитается логарифт 1 + количество каждого объекта в строке\n",
    "\n",
    "    # calculate length_norm per document (artist)\n",
    "    X_sum = X.sum(axis=1)      # суммтся значения столбцов\n",
    "    row_sums = np.ravel(X_sum) # переводятся в одномерный массив\n",
    "    average_length = row_sums.mean() # выводится среднее значение\n",
    "    length_norm = (1.0 - B) + B * row_sums / average_length # нормализация строк матрицы\n",
    "                                                            # одномерный массив делится на его среднее значение\n",
    "                                                            # после этого умножается на дефолтный вес 0.8 + 0.2\n",
    "    \n",
    "    # weight matrix rows by bm25\n",
    "    X.data = X.data * (K1 + 1.0) / (K1 * length_norm[X.row] + X.data) * idf[X.col] # здесь происходит перевзвешивание \n",
    "                                                                                   # вcей матрицы\n",
    "        \n",
    "    return X, idf, length_norm"
   ]
  },
  {
   "cell_type": "code",
   "execution_count": 11,
   "metadata": {},
   "outputs": [],
   "source": [
    "X, idf, length_norm = bm25_weight(test)"
   ]
  },
  {
   "cell_type": "code",
   "execution_count": 12,
   "metadata": {},
   "outputs": [
    {
     "data": {
      "text/plain": [
       "array([-0.12030341, -0.12030341, -0.12030341,  0.        , -0.28768207,\n",
       "       -0.28768207, -0.28768207,  0.        , -0.45506073, -0.45506073,\n",
       "       -0.45506073])"
      ]
     },
     "execution_count": 12,
     "metadata": {},
     "output_type": "execute_result"
    }
   ],
   "source": [
    "X.data"
   ]
  },
  {
   "cell_type": "markdown",
   "metadata": {},
   "source": [
    "### Источники"
   ]
  },
  {
   "cell_type": "markdown",
   "metadata": {},
   "source": [
    "- [код implisit - сайт: git hub - автор: Бен Фредериксон](https://github.com/benfred/implicit/blob/master/implicit/nearest_neighbours.py)\n",
    "- [Сайт с формулой BM25](https://seonomad.net/article/algoritm-bm25)"
   ]
  }
 ],
 "metadata": {
  "kernelspec": {
   "display_name": "Python 3",
   "language": "python",
   "name": "python3"
  },
  "language_info": {
   "codemirror_mode": {
    "name": "ipython",
    "version": 3
   },
   "file_extension": ".py",
   "mimetype": "text/x-python",
   "name": "python",
   "nbconvert_exporter": "python",
   "pygments_lexer": "ipython3",
   "version": "3.7.4"
  }
 },
 "nbformat": 4,
 "nbformat_minor": 2
}
