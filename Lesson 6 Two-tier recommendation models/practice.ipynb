{
 "cells": [
  {
   "cell_type": "markdown",
   "metadata": {},
   "source": [
    "# Библиотеки"
   ]
  },
  {
   "cell_type": "code",
   "execution_count": 1,
   "metadata": {},
   "outputs": [],
   "source": [
    "import pandas as pd\n",
    "import numpy as np\n",
    "import matplotlib.pyplot as plt\n",
    "%matplotlib inline\n",
    "\n",
    "# Для работы с матрицами\n",
    "from scipy.sparse import csr_matrix\n",
    "\n",
    "# Матричная факторизация\n",
    "from implicit import als\n",
    "\n",
    "# Модель второго уровня\n",
    "from lightgbm import LGBMClassifier\n",
    "\n",
    "import sys\n",
    "sys.path.append('../')\n",
    "\n",
    "# Написанные нами функции\n",
    "from src.metrics import precision_at_k, recall_at_k, evaluete_rec\n",
    "from src.utils import prefilter_items\n",
    "from src.recommenders import MainRecommender\n",
    "from src.myf import reduction_memory\n",
    "\n",
    "from pprint import pprint\n",
    "\n",
    "import warnings\n",
    "warnings.filterwarnings('ignore')"
   ]
  },
  {
   "cell_type": "markdown",
   "metadata": {},
   "source": [
    "# Данные"
   ]
  },
  {
   "cell_type": "code",
   "execution_count": 2,
   "metadata": {},
   "outputs": [
    {
     "name": "stdout",
     "output_type": "stream",
     "text": [
      "before:\t\t230.09 MB\n",
      "after:\t\t141.41 MB\n",
      "reduсed:\t88.68 MB\n",
      "before:\t\t5.17 MB\n",
      "after:\t\t4.25 MB\n",
      "reduсed:\t0.92 MB\n"
     ]
    }
   ],
   "source": [
    "data = pd.read_csv('../data/retail_train.csv')\n",
    "data = reduction_memory(data)\n",
    "\n",
    "item_features = pd.read_csv('../data/product.csv')\n",
    "item_features = reduction_memory(item_features)\n",
    "\n",
    "user_features = pd.read_csv('../data/hh_demographic.csv')"
   ]
  },
  {
   "cell_type": "code",
   "execution_count": 3,
   "metadata": {},
   "outputs": [],
   "source": [
    "# column processing\n",
    "# column names in lower case\n",
    "item_features.columns = [col.lower() for col in item_features.columns]\n",
    "user_features.columns = [col.lower() for col in user_features.columns]\n",
    "\n",
    "# rename columns\n",
    "item_features.rename(columns={'product_id': 'item_id'}, inplace=True)\n",
    "user_features.rename(columns={'household_key': 'user_id'}, inplace=True)"
   ]
  },
  {
   "cell_type": "markdown",
   "metadata": {},
   "source": [
    "# Разбиение на test и train"
   ]
  },
  {
   "cell_type": "code",
   "execution_count": 4,
   "metadata": {
    "scrolled": true
   },
   "outputs": [
    {
     "data": {
      "text/html": [
       "<div>\n",
       "<style scoped>\n",
       "    .dataframe tbody tr th:only-of-type {\n",
       "        vertical-align: middle;\n",
       "    }\n",
       "\n",
       "    .dataframe tbody tr th {\n",
       "        vertical-align: top;\n",
       "    }\n",
       "\n",
       "    .dataframe thead th {\n",
       "        text-align: right;\n",
       "    }\n",
       "</style>\n",
       "<table border=\"1\" class=\"dataframe\">\n",
       "  <thead>\n",
       "    <tr style=\"text-align: right;\">\n",
       "      <th></th>\n",
       "      <th>user_id</th>\n",
       "      <th>basket_id</th>\n",
       "      <th>day</th>\n",
       "      <th>item_id</th>\n",
       "      <th>quantity</th>\n",
       "      <th>sales_value</th>\n",
       "      <th>store_id</th>\n",
       "      <th>retail_disc</th>\n",
       "      <th>trans_time</th>\n",
       "      <th>week_no</th>\n",
       "      <th>coupon_disc</th>\n",
       "      <th>coupon_match_disc</th>\n",
       "    </tr>\n",
       "  </thead>\n",
       "  <tbody>\n",
       "    <tr>\n",
       "      <td>2104867</td>\n",
       "      <td>2070</td>\n",
       "      <td>40618492260</td>\n",
       "      <td>594</td>\n",
       "      <td>1019940</td>\n",
       "      <td>1</td>\n",
       "      <td>1.00</td>\n",
       "      <td>311</td>\n",
       "      <td>-0.29</td>\n",
       "      <td>40</td>\n",
       "      <td>86</td>\n",
       "      <td>0.0</td>\n",
       "      <td>0.0</td>\n",
       "    </tr>\n",
       "    <tr>\n",
       "      <td>2107468</td>\n",
       "      <td>2021</td>\n",
       "      <td>40618753059</td>\n",
       "      <td>594</td>\n",
       "      <td>840361</td>\n",
       "      <td>1</td>\n",
       "      <td>0.99</td>\n",
       "      <td>443</td>\n",
       "      <td>0.00</td>\n",
       "      <td>101</td>\n",
       "      <td>86</td>\n",
       "      <td>0.0</td>\n",
       "      <td>0.0</td>\n",
       "    </tr>\n",
       "    <tr>\n",
       "      <td>2107469</td>\n",
       "      <td>2021</td>\n",
       "      <td>40618753059</td>\n",
       "      <td>594</td>\n",
       "      <td>856060</td>\n",
       "      <td>1</td>\n",
       "      <td>1.77</td>\n",
       "      <td>443</td>\n",
       "      <td>-0.09</td>\n",
       "      <td>101</td>\n",
       "      <td>86</td>\n",
       "      <td>0.0</td>\n",
       "      <td>0.0</td>\n",
       "    </tr>\n",
       "    <tr>\n",
       "      <td>2107470</td>\n",
       "      <td>2021</td>\n",
       "      <td>40618753059</td>\n",
       "      <td>594</td>\n",
       "      <td>869344</td>\n",
       "      <td>1</td>\n",
       "      <td>1.67</td>\n",
       "      <td>443</td>\n",
       "      <td>-0.22</td>\n",
       "      <td>101</td>\n",
       "      <td>86</td>\n",
       "      <td>0.0</td>\n",
       "      <td>0.0</td>\n",
       "    </tr>\n",
       "    <tr>\n",
       "      <td>2107471</td>\n",
       "      <td>2021</td>\n",
       "      <td>40618753059</td>\n",
       "      <td>594</td>\n",
       "      <td>896862</td>\n",
       "      <td>2</td>\n",
       "      <td>5.00</td>\n",
       "      <td>443</td>\n",
       "      <td>-2.98</td>\n",
       "      <td>101</td>\n",
       "      <td>86</td>\n",
       "      <td>0.0</td>\n",
       "      <td>0.0</td>\n",
       "    </tr>\n",
       "  </tbody>\n",
       "</table>\n",
       "</div>"
      ],
      "text/plain": [
       "         user_id    basket_id  day  item_id  quantity  sales_value  store_id  \\\n",
       "2104867     2070  40618492260  594  1019940         1         1.00       311   \n",
       "2107468     2021  40618753059  594   840361         1         0.99       443   \n",
       "2107469     2021  40618753059  594   856060         1         1.77       443   \n",
       "2107470     2021  40618753059  594   869344         1         1.67       443   \n",
       "2107471     2021  40618753059  594   896862         2         5.00       443   \n",
       "\n",
       "         retail_disc  trans_time  week_no  coupon_disc  coupon_match_disc  \n",
       "2104867        -0.29          40       86          0.0                0.0  \n",
       "2107468         0.00         101       86          0.0                0.0  \n",
       "2107469        -0.09         101       86          0.0                0.0  \n",
       "2107470        -0.22         101       86          0.0                0.0  \n",
       "2107471        -2.98         101       86          0.0                0.0  "
      ]
     },
     "execution_count": 4,
     "metadata": {},
     "output_type": "execute_result"
    }
   ],
   "source": [
    "# Важна схема обучения и валидации!\n",
    "# -- давние покупки -- | -- 6 недель -- | -- 3 недель -- \n",
    "# подобрать размер 2-ого датасета (6 недель) --> learning curve (зависимость метрики recall@k от размера датасета)\n",
    "\n",
    "val_lvl_1_size_weeks = 6\n",
    "val_lvl_2_size_weeks = 3\n",
    "\n",
    "data_train_lvl_1 = data[data['week_no'] < data['week_no'].max() - (val_lvl_1_size_weeks + val_lvl_2_size_weeks)]\n",
    "data_val_lvl_1 = data[(data['week_no'] >= data['week_no'].max() - (val_lvl_1_size_weeks + val_lvl_2_size_weeks)) & \n",
    "                      (data['week_no'] < data['week_no'].max() - val_lvl_2_size_weeks)]\n",
    "\n",
    "data_train_lvl_2 = data_val_lvl_1.copy() # Для наглядности. Далее мы добавим изменения, и они будут отличаться\n",
    "data_val_lvl_2 = data[data['week_no'] >= data['week_no'].max() - val_lvl_2_size_weeks]\n",
    "\n",
    "data_val_lvl_1.head()"
   ]
  },
  {
   "cell_type": "markdown",
   "metadata": {},
   "source": [
    "# Предподготовка"
   ]
  },
  {
   "cell_type": "code",
   "execution_count": 5,
   "metadata": {},
   "outputs": [
    {
     "data": {
      "text/html": [
       "<div>\n",
       "<style scoped>\n",
       "    .dataframe tbody tr th:only-of-type {\n",
       "        vertical-align: middle;\n",
       "    }\n",
       "\n",
       "    .dataframe tbody tr th {\n",
       "        vertical-align: top;\n",
       "    }\n",
       "\n",
       "    .dataframe thead th {\n",
       "        text-align: right;\n",
       "    }\n",
       "</style>\n",
       "<table border=\"1\" class=\"dataframe\">\n",
       "  <thead>\n",
       "    <tr style=\"text-align: right;\">\n",
       "      <th></th>\n",
       "      <th>user_id</th>\n",
       "      <th>basket_id</th>\n",
       "      <th>day</th>\n",
       "      <th>item_id</th>\n",
       "      <th>quantity</th>\n",
       "      <th>sales_value</th>\n",
       "      <th>store_id</th>\n",
       "      <th>retail_disc</th>\n",
       "      <th>trans_time</th>\n",
       "      <th>week_no</th>\n",
       "      <th>coupon_disc</th>\n",
       "      <th>coupon_match_disc</th>\n",
       "      <th>price</th>\n",
       "    </tr>\n",
       "  </thead>\n",
       "  <tbody>\n",
       "    <tr>\n",
       "      <td>0</td>\n",
       "      <td>2375</td>\n",
       "      <td>26984851472</td>\n",
       "      <td>1</td>\n",
       "      <td>1004906</td>\n",
       "      <td>1</td>\n",
       "      <td>1.39</td>\n",
       "      <td>364</td>\n",
       "      <td>-0.60</td>\n",
       "      <td>1631</td>\n",
       "      <td>1</td>\n",
       "      <td>0.0</td>\n",
       "      <td>0.0</td>\n",
       "      <td>1.39</td>\n",
       "    </tr>\n",
       "    <tr>\n",
       "      <td>1</td>\n",
       "      <td>2375</td>\n",
       "      <td>26984851472</td>\n",
       "      <td>1</td>\n",
       "      <td>1033142</td>\n",
       "      <td>1</td>\n",
       "      <td>0.82</td>\n",
       "      <td>364</td>\n",
       "      <td>0.00</td>\n",
       "      <td>1631</td>\n",
       "      <td>1</td>\n",
       "      <td>0.0</td>\n",
       "      <td>0.0</td>\n",
       "      <td>0.82</td>\n",
       "    </tr>\n",
       "    <tr>\n",
       "      <td>2</td>\n",
       "      <td>2375</td>\n",
       "      <td>26984851472</td>\n",
       "      <td>1</td>\n",
       "      <td>1036325</td>\n",
       "      <td>1</td>\n",
       "      <td>0.99</td>\n",
       "      <td>364</td>\n",
       "      <td>-0.30</td>\n",
       "      <td>1631</td>\n",
       "      <td>1</td>\n",
       "      <td>0.0</td>\n",
       "      <td>0.0</td>\n",
       "      <td>0.99</td>\n",
       "    </tr>\n",
       "    <tr>\n",
       "      <td>3</td>\n",
       "      <td>2375</td>\n",
       "      <td>26984851472</td>\n",
       "      <td>1</td>\n",
       "      <td>1082185</td>\n",
       "      <td>1</td>\n",
       "      <td>1.21</td>\n",
       "      <td>364</td>\n",
       "      <td>0.00</td>\n",
       "      <td>1631</td>\n",
       "      <td>1</td>\n",
       "      <td>0.0</td>\n",
       "      <td>0.0</td>\n",
       "      <td>1.21</td>\n",
       "    </tr>\n",
       "    <tr>\n",
       "      <td>4</td>\n",
       "      <td>2375</td>\n",
       "      <td>26984851472</td>\n",
       "      <td>1</td>\n",
       "      <td>8160430</td>\n",
       "      <td>1</td>\n",
       "      <td>1.50</td>\n",
       "      <td>364</td>\n",
       "      <td>-0.39</td>\n",
       "      <td>1631</td>\n",
       "      <td>1</td>\n",
       "      <td>0.0</td>\n",
       "      <td>0.0</td>\n",
       "      <td>1.50</td>\n",
       "    </tr>\n",
       "  </tbody>\n",
       "</table>\n",
       "</div>"
      ],
      "text/plain": [
       "   user_id    basket_id  day  item_id  quantity  sales_value  store_id  \\\n",
       "0     2375  26984851472    1  1004906         1         1.39       364   \n",
       "1     2375  26984851472    1  1033142         1         0.82       364   \n",
       "2     2375  26984851472    1  1036325         1         0.99       364   \n",
       "3     2375  26984851472    1  1082185         1         1.21       364   \n",
       "4     2375  26984851472    1  8160430         1         1.50       364   \n",
       "\n",
       "   retail_disc  trans_time  week_no  coupon_disc  coupon_match_disc  price  \n",
       "0        -0.60        1631        1          0.0                0.0   1.39  \n",
       "1         0.00        1631        1          0.0                0.0   0.82  \n",
       "2        -0.30        1631        1          0.0                0.0   0.99  \n",
       "3         0.00        1631        1          0.0                0.0   1.21  \n",
       "4        -0.39        1631        1          0.0                0.0   1.50  "
      ]
     },
     "execution_count": 5,
     "metadata": {},
     "output_type": "execute_result"
    }
   ],
   "source": [
    "n_items_before = data_train_lvl_1['item_id'].nunique()\n",
    "\n",
    "data_train_lvl_1 = prefilter_items(data=data_train_lvl_1,\n",
    "                                   item_features=item_features)\n",
    "\n",
    "data_train_lvl_1.head()"
   ]
  },
  {
   "cell_type": "code",
   "execution_count": 6,
   "metadata": {},
   "outputs": [
    {
     "name": "stdout",
     "output_type": "stream",
     "text": [
      "Decreased # items from 83685 to 5001\n"
     ]
    }
   ],
   "source": [
    "n_items_after = data_train_lvl_1['item_id'].nunique()\n",
    "print(f'Decreased # items from {n_items_before} to {n_items_after}')"
   ]
  },
  {
   "cell_type": "markdown",
   "metadata": {},
   "source": [
    "# Обучение модели 1го уровня"
   ]
  },
  {
   "cell_type": "code",
   "execution_count": 7,
   "metadata": {},
   "outputs": [
    {
     "name": "stderr",
     "output_type": "stream",
     "text": [
      "WARNING:root:Intel MKL BLAS detected. Its highly recommend to set the environment variable 'export MKL_NUM_THREADS=1' to disable its internal multithreading\n"
     ]
    },
    {
     "data": {
      "application/vnd.jupyter.widget-view+json": {
       "model_id": "de036d70460c4a8099029631ee2028f3",
       "version_major": 2,
       "version_minor": 0
      },
      "text/plain": [
       "HBox(children=(IntProgress(value=0, max=15), HTML(value='')))"
      ]
     },
     "metadata": {},
     "output_type": "display_data"
    },
    {
     "name": "stdout",
     "output_type": "stream",
     "text": [
      "\n"
     ]
    },
    {
     "data": {
      "application/vnd.jupyter.widget-view+json": {
       "model_id": "7ca8ddb00b91435d9976d1ec7d1ccb63",
       "version_major": 2,
       "version_minor": 0
      },
      "text/plain": [
       "HBox(children=(IntProgress(value=0, max=5001), HTML(value='')))"
      ]
     },
     "metadata": {},
     "output_type": "display_data"
    },
    {
     "name": "stdout",
     "output_type": "stream",
     "text": [
      "\n"
     ]
    }
   ],
   "source": [
    "recommender = MainRecommender(data_train_lvl_1)"
   ]
  },
  {
   "cell_type": "code",
   "execution_count": 8,
   "metadata": {},
   "outputs": [
    {
     "data": {
      "text/plain": [
       "[899624, 1037863, 923746, 845208, 1082185]"
      ]
     },
     "execution_count": 8,
     "metadata": {},
     "output_type": "execute_result"
    }
   ],
   "source": [
    "recommender.get_als_recommendations(user=2375, N=5)"
   ]
  },
  {
   "cell_type": "code",
   "execution_count": 9,
   "metadata": {},
   "outputs": [
    {
     "data": {
      "text/plain": [
       "[1036501, 1079023, 1085983, 907099, 910439]"
      ]
     },
     "execution_count": 9,
     "metadata": {},
     "output_type": "execute_result"
    }
   ],
   "source": [
    "recommender.get_own_recommendations(user=2375, N=5)"
   ]
  },
  {
   "cell_type": "code",
   "execution_count": 10,
   "metadata": {},
   "outputs": [
    {
     "data": {
      "text/plain": [
       "[868764, 889731, 1055646, 1046545, 981760]"
      ]
     },
     "execution_count": 10,
     "metadata": {},
     "output_type": "execute_result"
    }
   ],
   "source": [
    "recommender.get_similar_items_recommendation(user=2375, N=5)"
   ]
  },
  {
   "cell_type": "code",
   "execution_count": 11,
   "metadata": {},
   "outputs": [
    {
     "data": {
      "text/plain": [
       "[869195, 1015296, 895502, 822677, 1079023]"
      ]
     },
     "execution_count": 11,
     "metadata": {},
     "output_type": "execute_result"
    }
   ],
   "source": [
    "recommender.get_similar_users_recommendation(user=2375, N=5)"
   ]
  },
  {
   "cell_type": "markdown",
   "metadata": {},
   "source": [
    "# Задание 1\n",
    "\n",
    "### A) Попробуйте различные варианты генерации кандидатов. Какие из них дают наибольший recall@k ?\n",
    "\n",
    "- Пока пробуем отобрать 50 кандидатов (k=50)\n",
    "- Качество измеряем на data_val_lvl_1: следующие 6 недель после трейна"
   ]
  },
  {
   "cell_type": "markdown",
   "metadata": {},
   "source": [
    "### B)* Как зависит recall@k от k? Постройте для одной схемы генерации кандидатов эту зависимость для k = {20, 50, 100, 200, 500}  "
   ]
  },
  {
   "cell_type": "code",
   "execution_count": 12,
   "metadata": {},
   "outputs": [
    {
     "data": {
      "text/html": [
       "<div>\n",
       "<style scoped>\n",
       "    .dataframe tbody tr th:only-of-type {\n",
       "        vertical-align: middle;\n",
       "    }\n",
       "\n",
       "    .dataframe tbody tr th {\n",
       "        vertical-align: top;\n",
       "    }\n",
       "\n",
       "    .dataframe thead th {\n",
       "        text-align: right;\n",
       "    }\n",
       "</style>\n",
       "<table border=\"1\" class=\"dataframe\">\n",
       "  <thead>\n",
       "    <tr style=\"text-align: right;\">\n",
       "      <th></th>\n",
       "      <th>user_id</th>\n",
       "      <th>actual</th>\n",
       "    </tr>\n",
       "  </thead>\n",
       "  <tbody>\n",
       "    <tr>\n",
       "      <td>0</td>\n",
       "      <td>1</td>\n",
       "      <td>[853529, 865456, 867607, 872137, 874905, 87524...</td>\n",
       "    </tr>\n",
       "    <tr>\n",
       "      <td>1</td>\n",
       "      <td>2</td>\n",
       "      <td>[15830248, 838136, 839656, 861272, 866211, 870...</td>\n",
       "    </tr>\n",
       "    <tr>\n",
       "      <td>2</td>\n",
       "      <td>4</td>\n",
       "      <td>[883932, 970760, 1035676, 1055863, 1097610, 67...</td>\n",
       "    </tr>\n",
       "    <tr>\n",
       "      <td>3</td>\n",
       "      <td>6</td>\n",
       "      <td>[1024306, 1102949, 6548453, 835394, 940804, 96...</td>\n",
       "    </tr>\n",
       "    <tr>\n",
       "      <td>4</td>\n",
       "      <td>7</td>\n",
       "      <td>[836281, 843306, 845294, 914190, 920456, 93886...</td>\n",
       "    </tr>\n",
       "  </tbody>\n",
       "</table>\n",
       "</div>"
      ],
      "text/plain": [
       "   user_id                                             actual\n",
       "0        1  [853529, 865456, 867607, 872137, 874905, 87524...\n",
       "1        2  [15830248, 838136, 839656, 861272, 866211, 870...\n",
       "2        4  [883932, 970760, 1035676, 1055863, 1097610, 67...\n",
       "3        6  [1024306, 1102949, 6548453, 835394, 940804, 96...\n",
       "4        7  [836281, 843306, 845294, 914190, 920456, 93886..."
      ]
     },
     "execution_count": 12,
     "metadata": {},
     "output_type": "execute_result"
    }
   ],
   "source": [
    "result_lvl_1 = data_val_lvl_1.groupby('user_id')['item_id'].unique().reset_index()\n",
    "result_lvl_1.columns = ['user_id', 'actual']\n",
    "result_lvl_1 = result_lvl_1[result_lvl_1['user_id'].isin(data_train_lvl_1['user_id'])]\n",
    "result_lvl_1.head()"
   ]
  },
  {
   "cell_type": "code",
   "execution_count": 13,
   "metadata": {},
   "outputs": [
    {
     "data": {
      "text/html": [
       "<div>\n",
       "<style scoped>\n",
       "    .dataframe tbody tr th:only-of-type {\n",
       "        vertical-align: middle;\n",
       "    }\n",
       "\n",
       "    .dataframe tbody tr th {\n",
       "        vertical-align: top;\n",
       "    }\n",
       "\n",
       "    .dataframe thead th {\n",
       "        text-align: right;\n",
       "    }\n",
       "</style>\n",
       "<table border=\"1\" class=\"dataframe\">\n",
       "  <thead>\n",
       "    <tr style=\"text-align: right;\">\n",
       "      <th></th>\n",
       "      <th>similar_items</th>\n",
       "      <th>als</th>\n",
       "      <th>own</th>\n",
       "    </tr>\n",
       "    <tr>\n",
       "      <th>recall@k</th>\n",
       "      <th></th>\n",
       "      <th></th>\n",
       "      <th></th>\n",
       "    </tr>\n",
       "  </thead>\n",
       "  <tbody>\n",
       "    <tr>\n",
       "      <td>20</td>\n",
       "      <td>0.030001</td>\n",
       "      <td>0.042017</td>\n",
       "      <td>0.064490</td>\n",
       "    </tr>\n",
       "    <tr>\n",
       "      <td>50</td>\n",
       "      <td>0.056768</td>\n",
       "      <td>0.076449</td>\n",
       "      <td>0.104058</td>\n",
       "    </tr>\n",
       "    <tr>\n",
       "      <td>100</td>\n",
       "      <td>0.090275</td>\n",
       "      <td>0.117962</td>\n",
       "      <td>0.153365</td>\n",
       "    </tr>\n",
       "    <tr>\n",
       "      <td>200</td>\n",
       "      <td>0.142309</td>\n",
       "      <td>0.174486</td>\n",
       "      <td>0.230184</td>\n",
       "    </tr>\n",
       "    <tr>\n",
       "      <td>500</td>\n",
       "      <td>0.241823</td>\n",
       "      <td>0.274976</td>\n",
       "      <td>0.342583</td>\n",
       "    </tr>\n",
       "  </tbody>\n",
       "</table>\n",
       "</div>"
      ],
      "text/plain": [
       "          similar_items       als       own\n",
       "recall@k                                   \n",
       "20             0.030001  0.042017  0.064490\n",
       "50             0.056768  0.076449  0.104058\n",
       "100            0.090275  0.117962  0.153365\n",
       "200            0.142309  0.174486  0.230184\n",
       "500            0.241823  0.274976  0.342583"
      ]
     },
     "execution_count": 13,
     "metadata": {},
     "output_type": "execute_result"
    }
   ],
   "source": [
    "K = 20, 50, 100, 200, 500\n",
    "\n",
    "recall_lvl_1 = pd.DataFrame(columns=['recall@k', 'similar_items', 'als', ' own']).set_index('recall@k')\n",
    "\n",
    "for k in K:\n",
    "    \n",
    "    result_lvl_1['similar_items'] = result_lvl_1['user_id'].apply(\n",
    "        lambda x: recommender.get_similar_items_recommendation(user=x, N=k)\n",
    "    )# apply\n",
    "    \n",
    "    result_lvl_1['als'] = result_lvl_1['user_id'].apply(\n",
    "        lambda x: recommender.get_als_recommendations(user=x, N=k)\n",
    "    )# apply\n",
    "\n",
    "    result_lvl_1['own'] = result_lvl_1['user_id'].apply(\n",
    "        lambda x: recommender.get_own_recommendations(user=x, N=k)\n",
    "    )# apply\n",
    "    \n",
    "    recall_lvl_1.loc[k] = evaluete_rec(data=result_lvl_1, true='actual', metric='recall@k', k=k)\n",
    "    \n",
    "recall_lvl_1"
   ]
  },
  {
   "cell_type": "code",
   "execution_count": 14,
   "metadata": {},
   "outputs": [
    {
     "data": {
      "image/png": "[encoded data removed]",
      "text/plain": [
       "<Figure size 432x288 with 1 Axes>"
      ]
     },
     "metadata": {
      "needs_background": "light"
     },
     "output_type": "display_data"
    }
   ],
   "source": [
    "recall_lvl_1.plot()\n",
    "plt.grid()"
   ]
  },
  {
   "cell_type": "markdown",
   "metadata": {},
   "source": [
    "##### Дают ли own recommendtions + top-popular лучший recall?\n",
    "\n",
    "##### ответ:\n",
    "Тесты показали, что комбинация __own recommendtions + top-popular__ не дает лучший recall\n",
    "\n",
    "##### ответ:\n",
    "Видно, что чем больше k тем выше показатель recall@k\n",
    "\n",
    "### C)* Исходя из прошлого вопроса, как вы думаете, какое значение k является наиболее разумным?\n",
    "\n",
    "Чем больше k тем больше претедентов будет подобрано, что позволяет модели 2го уровная прогнозировать точнее, но их не должно быть слишком много иначе модель 2го уровная будет работать долго. Думаю можно использовать результат работы own recommendation c k = 200."
   ]
  },
  {
   "cell_type": "markdown",
   "metadata": {},
   "source": [
    "# Задание 2.\n",
    "\n",
    "Обучите модель 2-ого уровня, при этом:"
   ]
  },
  {
   "cell_type": "markdown",
   "metadata": {},
   "source": [
    "#### - Добавьте минимум по 2 фичи для юзера, товара и пары юзер-товар"
   ]
  },
  {
   "cell_type": "code",
   "execution_count": 15,
   "metadata": {
    "scrolled": false
   },
   "outputs": [],
   "source": [
    "class Feature:\n",
    "    \n",
    "    def __init__(self, data):\n",
    "        self.data = data.copy()\n",
    "    \n",
    "    # item\n",
    "    def price(self):\n",
    "        data = self.data\n",
    "        \n",
    "        data['price'] = data['sales_value'] / (np.maximum(data['quantity'], 1))\n",
    "        \n",
    "        return data\n",
    "    \n",
    "    # User\n",
    "    def mean_price_bascet(self):\n",
    "        data = self.data\n",
    "        \n",
    "        sum_price = data.groupby('user_id')['price'].sum()\n",
    "        unique_baskets = data.groupby('user_id')['basket_id'].nunique()\n",
    "        \n",
    "        mean_price = sum_price / unique_baskets\n",
    "        mean_price.name = 'mean_price_bascet'\n",
    "        mean_price = mean_price.reset_index()\n",
    "\n",
    "        data = data.merge(mean_price, on='user_id')\n",
    "        data.head()\n",
    "        \n",
    "        return data\n",
    "    \n",
    "    # User Item\n",
    "    def mean_bascet_diff(self):\n",
    "        data = self.data\n",
    "        \n",
    "        data['mean_bascet_diff'] = data['mean_price_bascet'] - data['price']\n",
    "        \n",
    "        return data\n",
    "    \n",
    "    # Pipline\n",
    "    def pipline(self):\n",
    "        self.data = self.price()\n",
    "        self.data = self.mean_price_bascet()\n",
    "        self.data = self.mean_bascet_diff()\n",
    "        \n",
    "        return self.data"
   ]
  },
  {
   "cell_type": "markdown",
   "metadata": {},
   "source": [
    "##### Как корректно вставить эти фичи в трейновые датасеты, Я не понял"
   ]
  },
  {
   "cell_type": "markdown",
   "metadata": {},
   "source": [
    "# Разбиение на X и y"
   ]
  },
  {
   "cell_type": "code",
   "execution_count": 16,
   "metadata": {},
   "outputs": [
    {
     "data": {
      "text/html": [
       "<div>\n",
       "<style scoped>\n",
       "    .dataframe tbody tr th:only-of-type {\n",
       "        vertical-align: middle;\n",
       "    }\n",
       "\n",
       "    .dataframe tbody tr th {\n",
       "        vertical-align: top;\n",
       "    }\n",
       "\n",
       "    .dataframe thead th {\n",
       "        text-align: right;\n",
       "    }\n",
       "</style>\n",
       "<table border=\"1\" class=\"dataframe\">\n",
       "  <thead>\n",
       "    <tr style=\"text-align: right;\">\n",
       "      <th></th>\n",
       "      <th>user_id</th>\n",
       "      <th>candidates</th>\n",
       "    </tr>\n",
       "  </thead>\n",
       "  <tbody>\n",
       "    <tr>\n",
       "      <td>0</td>\n",
       "      <td>2070</td>\n",
       "      <td>[834103, 878302, 1119399, 1085604, 13511722, 9...</td>\n",
       "    </tr>\n",
       "    <tr>\n",
       "      <td>1</td>\n",
       "      <td>2021</td>\n",
       "      <td>[1119454, 1019142, 871279, 835578, 863762, 101...</td>\n",
       "    </tr>\n",
       "    <tr>\n",
       "      <td>2</td>\n",
       "      <td>1753</td>\n",
       "      <td>[13842224, 1094371, 1089066, 862981, 901543, 1...</td>\n",
       "    </tr>\n",
       "    <tr>\n",
       "      <td>3</td>\n",
       "      <td>2120</td>\n",
       "      <td>[480014, 1082185, 6534178, 1029743, 995242, 11...</td>\n",
       "    </tr>\n",
       "    <tr>\n",
       "      <td>4</td>\n",
       "      <td>1346</td>\n",
       "      <td>[5574377, 480014, 903738, 5568758, 8090560, 91...</td>\n",
       "    </tr>\n",
       "  </tbody>\n",
       "</table>\n",
       "</div>"
      ],
      "text/plain": [
       "   user_id                                         candidates\n",
       "0     2070  [834103, 878302, 1119399, 1085604, 13511722, 9...\n",
       "1     2021  [1119454, 1019142, 871279, 835578, 863762, 101...\n",
       "2     1753  [13842224, 1094371, 1089066, 862981, 901543, 1...\n",
       "3     2120  [480014, 1082185, 6534178, 1029743, 995242, 11...\n",
       "4     1346  [5574377, 480014, 903738, 5568758, 8090560, 91..."
      ]
     },
     "execution_count": 16,
     "metadata": {},
     "output_type": "execute_result"
    }
   ],
   "source": [
    "# -- давние покупки -- | -- 6 недель -- | -- 3 недель -- \n",
    "users_lvl_2 = pd.DataFrame(data_train_lvl_2['user_id'].unique())\n",
    "users_lvl_2.columns = ['user_id']\n",
    "\n",
    "# Пока только warm start\n",
    "train_users = data_train_lvl_1['user_id'].unique()\n",
    "users_lvl_2 = users_lvl_2[users_lvl_2['user_id'].isin(train_users)]\n",
    "\n",
    "users_lvl_2['candidates'] = users_lvl_2['user_id'].apply(lambda x: recommender.get_own_recommendations(x, N=200))\n",
    "\n",
    "users_lvl_2.head()"
   ]
  },
  {
   "cell_type": "code",
   "execution_count": 17,
   "metadata": {},
   "outputs": [
    {
     "data": {
      "text/html": [
       "<div>\n",
       "<style scoped>\n",
       "    .dataframe tbody tr th:only-of-type {\n",
       "        vertical-align: middle;\n",
       "    }\n",
       "\n",
       "    .dataframe tbody tr th {\n",
       "        vertical-align: top;\n",
       "    }\n",
       "\n",
       "    .dataframe thead th {\n",
       "        text-align: right;\n",
       "    }\n",
       "</style>\n",
       "<table border=\"1\" class=\"dataframe\">\n",
       "  <thead>\n",
       "    <tr style=\"text-align: right;\">\n",
       "      <th></th>\n",
       "      <th>user_id</th>\n",
       "      <th>item_id</th>\n",
       "    </tr>\n",
       "  </thead>\n",
       "  <tbody>\n",
       "    <tr>\n",
       "      <td>0</td>\n",
       "      <td>2070</td>\n",
       "      <td>834103</td>\n",
       "    </tr>\n",
       "    <tr>\n",
       "      <td>1</td>\n",
       "      <td>2070</td>\n",
       "      <td>878302</td>\n",
       "    </tr>\n",
       "    <tr>\n",
       "      <td>2</td>\n",
       "      <td>2070</td>\n",
       "      <td>1119399</td>\n",
       "    </tr>\n",
       "    <tr>\n",
       "      <td>3</td>\n",
       "      <td>2070</td>\n",
       "      <td>1085604</td>\n",
       "    </tr>\n",
       "    <tr>\n",
       "      <td>4</td>\n",
       "      <td>2070</td>\n",
       "      <td>13511722</td>\n",
       "    </tr>\n",
       "  </tbody>\n",
       "</table>\n",
       "</div>"
      ],
      "text/plain": [
       "   user_id   item_id\n",
       "0     2070    834103\n",
       "1     2070    878302\n",
       "2     2070   1119399\n",
       "3     2070   1085604\n",
       "4     2070  13511722"
      ]
     },
     "execution_count": 17,
     "metadata": {},
     "output_type": "execute_result"
    }
   ],
   "source": [
    "df = pd.DataFrame({'user_id':users_lvl_2['user_id'].values.repeat(len(users_lvl_2['candidates'][0])),\n",
    "                   'item_id':np.concatenate(users_lvl_2['candidates'].values)})\n",
    "df.head()"
   ]
  },
  {
   "cell_type": "code",
   "execution_count": 18,
   "metadata": {
    "scrolled": true
   },
   "outputs": [
    {
     "data": {
      "text/html": [
       "<div>\n",
       "<style scoped>\n",
       "    .dataframe tbody tr th:only-of-type {\n",
       "        vertical-align: middle;\n",
       "    }\n",
       "\n",
       "    .dataframe tbody tr th {\n",
       "        vertical-align: top;\n",
       "    }\n",
       "\n",
       "    .dataframe thead th {\n",
       "        text-align: right;\n",
       "    }\n",
       "</style>\n",
       "<table border=\"1\" class=\"dataframe\">\n",
       "  <thead>\n",
       "    <tr style=\"text-align: right;\">\n",
       "      <th></th>\n",
       "      <th>user_id</th>\n",
       "      <th>item_id</th>\n",
       "      <th>target</th>\n",
       "      <th>manufacturer</th>\n",
       "      <th>department</th>\n",
       "      <th>brand</th>\n",
       "      <th>commodity_desc</th>\n",
       "      <th>sub_commodity_desc</th>\n",
       "      <th>curr_size_of_product</th>\n",
       "      <th>age_desc</th>\n",
       "      <th>marital_status_code</th>\n",
       "      <th>income_desc</th>\n",
       "      <th>homeowner_desc</th>\n",
       "      <th>hh_comp_desc</th>\n",
       "      <th>household_size_desc</th>\n",
       "      <th>kid_category_desc</th>\n",
       "    </tr>\n",
       "  </thead>\n",
       "  <tbody>\n",
       "    <tr>\n",
       "      <td>0</td>\n",
       "      <td>2070</td>\n",
       "      <td>834103</td>\n",
       "      <td>1.0</td>\n",
       "      <td>2224</td>\n",
       "      <td>GROCERY</td>\n",
       "      <td>National</td>\n",
       "      <td>SOFT DRINKS</td>\n",
       "      <td>SFT DRNK SNGL SRV BTL CARB (EX</td>\n",
       "      <td>20 OZ</td>\n",
       "      <td>45-54</td>\n",
       "      <td>U</td>\n",
       "      <td>50-74K</td>\n",
       "      <td>Unknown</td>\n",
       "      <td>Unknown</td>\n",
       "      <td>1</td>\n",
       "      <td>None/Unknown</td>\n",
       "    </tr>\n",
       "    <tr>\n",
       "      <td>1</td>\n",
       "      <td>2070</td>\n",
       "      <td>834103</td>\n",
       "      <td>1.0</td>\n",
       "      <td>2224</td>\n",
       "      <td>GROCERY</td>\n",
       "      <td>National</td>\n",
       "      <td>SOFT DRINKS</td>\n",
       "      <td>SFT DRNK SNGL SRV BTL CARB (EX</td>\n",
       "      <td>20 OZ</td>\n",
       "      <td>45-54</td>\n",
       "      <td>U</td>\n",
       "      <td>50-74K</td>\n",
       "      <td>Unknown</td>\n",
       "      <td>Unknown</td>\n",
       "      <td>1</td>\n",
       "      <td>None/Unknown</td>\n",
       "    </tr>\n",
       "    <tr>\n",
       "      <td>2</td>\n",
       "      <td>2070</td>\n",
       "      <td>834103</td>\n",
       "      <td>1.0</td>\n",
       "      <td>2224</td>\n",
       "      <td>GROCERY</td>\n",
       "      <td>National</td>\n",
       "      <td>SOFT DRINKS</td>\n",
       "      <td>SFT DRNK SNGL SRV BTL CARB (EX</td>\n",
       "      <td>20 OZ</td>\n",
       "      <td>45-54</td>\n",
       "      <td>U</td>\n",
       "      <td>50-74K</td>\n",
       "      <td>Unknown</td>\n",
       "      <td>Unknown</td>\n",
       "      <td>1</td>\n",
       "      <td>None/Unknown</td>\n",
       "    </tr>\n",
       "    <tr>\n",
       "      <td>3</td>\n",
       "      <td>2070</td>\n",
       "      <td>834103</td>\n",
       "      <td>1.0</td>\n",
       "      <td>2224</td>\n",
       "      <td>GROCERY</td>\n",
       "      <td>National</td>\n",
       "      <td>SOFT DRINKS</td>\n",
       "      <td>SFT DRNK SNGL SRV BTL CARB (EX</td>\n",
       "      <td>20 OZ</td>\n",
       "      <td>45-54</td>\n",
       "      <td>U</td>\n",
       "      <td>50-74K</td>\n",
       "      <td>Unknown</td>\n",
       "      <td>Unknown</td>\n",
       "      <td>1</td>\n",
       "      <td>None/Unknown</td>\n",
       "    </tr>\n",
       "    <tr>\n",
       "      <td>4</td>\n",
       "      <td>2070</td>\n",
       "      <td>834103</td>\n",
       "      <td>1.0</td>\n",
       "      <td>2224</td>\n",
       "      <td>GROCERY</td>\n",
       "      <td>National</td>\n",
       "      <td>SOFT DRINKS</td>\n",
       "      <td>SFT DRNK SNGL SRV BTL CARB (EX</td>\n",
       "      <td>20 OZ</td>\n",
       "      <td>45-54</td>\n",
       "      <td>U</td>\n",
       "      <td>50-74K</td>\n",
       "      <td>Unknown</td>\n",
       "      <td>Unknown</td>\n",
       "      <td>1</td>\n",
       "      <td>None/Unknown</td>\n",
       "    </tr>\n",
       "  </tbody>\n",
       "</table>\n",
       "</div>"
      ],
      "text/plain": [
       "   user_id  item_id  target  manufacturer department     brand commodity_desc  \\\n",
       "0     2070   834103     1.0          2224    GROCERY  National    SOFT DRINKS   \n",
       "1     2070   834103     1.0          2224    GROCERY  National    SOFT DRINKS   \n",
       "2     2070   834103     1.0          2224    GROCERY  National    SOFT DRINKS   \n",
       "3     2070   834103     1.0          2224    GROCERY  National    SOFT DRINKS   \n",
       "4     2070   834103     1.0          2224    GROCERY  National    SOFT DRINKS   \n",
       "\n",
       "               sub_commodity_desc curr_size_of_product age_desc  \\\n",
       "0  SFT DRNK SNGL SRV BTL CARB (EX                20 OZ    45-54   \n",
       "1  SFT DRNK SNGL SRV BTL CARB (EX                20 OZ    45-54   \n",
       "2  SFT DRNK SNGL SRV BTL CARB (EX                20 OZ    45-54   \n",
       "3  SFT DRNK SNGL SRV BTL CARB (EX                20 OZ    45-54   \n",
       "4  SFT DRNK SNGL SRV BTL CARB (EX                20 OZ    45-54   \n",
       "\n",
       "  marital_status_code income_desc homeowner_desc hh_comp_desc  \\\n",
       "0                   U      50-74K        Unknown      Unknown   \n",
       "1                   U      50-74K        Unknown      Unknown   \n",
       "2                   U      50-74K        Unknown      Unknown   \n",
       "3                   U      50-74K        Unknown      Unknown   \n",
       "4                   U      50-74K        Unknown      Unknown   \n",
       "\n",
       "  household_size_desc kid_category_desc  \n",
       "0                   1      None/Unknown  \n",
       "1                   1      None/Unknown  \n",
       "2                   1      None/Unknown  \n",
       "3                   1      None/Unknown  \n",
       "4                   1      None/Unknown  "
      ]
     },
     "execution_count": 18,
     "metadata": {},
     "output_type": "execute_result"
    }
   ],
   "source": [
    "targets_lvl_2 = data_train_lvl_2[['user_id', 'item_id']].copy()\n",
    "targets_lvl_2['target'] = 1  # тут только покупки \n",
    "\n",
    "targets_lvl_2 = df.merge(targets_lvl_2, on=['user_id', 'item_id'], how='left')\n",
    "\n",
    "targets_lvl_2['target'].fillna(0, inplace= True)\n",
    "\n",
    "targets_lvl_2 = targets_lvl_2.merge(item_features, on='item_id', how='left')\n",
    "targets_lvl_2 = targets_lvl_2.merge(user_features, on='user_id', how='left')\n",
    "\n",
    "targets_lvl_2.head()"
   ]
  },
  {
   "cell_type": "code",
   "execution_count": 19,
   "metadata": {},
   "outputs": [],
   "source": [
    "X_train = targets_lvl_2.drop('target', axis=1)\n",
    "y_train = targets_lvl_2[['target']]\n",
    "\n",
    "cat_feats = X_train.columns[2:].tolist()\n",
    "X_train[cat_feats] = X_train[cat_feats].astype('category')"
   ]
  },
  {
   "cell_type": "markdown",
   "metadata": {},
   "source": [
    "# Обучение модели 2го уровня (LightGBM)"
   ]
  },
  {
   "cell_type": "code",
   "execution_count": 20,
   "metadata": {},
   "outputs": [
    {
     "data": {
      "text/plain": [
       "array([0., 0., 0., ..., 0., 0., 0.])"
      ]
     },
     "execution_count": 20,
     "metadata": {},
     "output_type": "execute_result"
    }
   ],
   "source": [
    "lgb = LGBMClassifier(objective='binary', max_depth=7, categorical_column=cat_feats)\n",
    "lgb.fit(X_train, y_train)\n",
    "\n",
    "train_preds = lgb.predict(X_train)\n",
    "train_preds"
   ]
  },
  {
   "cell_type": "code",
   "execution_count": 21,
   "metadata": {},
   "outputs": [],
   "source": [
    "def eval_lgbm(targets, preds, k=5):\n",
    "    targets['recommend'] = preds\n",
    "    targets = targets[['user_id', 'item_id', 'target', 'recommend']]\n",
    "    \n",
    "    target = targets[targets['target'] == 1]\n",
    "    target = target.groupby('user_id')['item_id'].unique().reset_index()\n",
    "    target.columns = ['user_id', 'target']\n",
    "    \n",
    "    recommend = targets[targets['recommend'] == 1]\n",
    "    recommend = recommend.groupby('user_id')['item_id'].unique().reset_index()\n",
    "    recommend.columns = ['user_id', 'recommend']\n",
    "    \n",
    "    target_recommend = target.merge(recommend, on='user_id')\n",
    "    \n",
    "    result = evaluete_rec(data=target_recommend, true='target', metric='precision@k', k=k)\n",
    "    \n",
    "    return result"
   ]
  },
  {
   "cell_type": "code",
   "execution_count": 22,
   "metadata": {},
   "outputs": [
    {
     "name": "stdout",
     "output_type": "stream",
     "text": [
      "precision@5 (train) = 0.6163003663003664\n"
     ]
    }
   ],
   "source": [
    "print(f'precision@5 (train) = {eval_lgbm(targets=targets_lvl_2, preds=train_preds)[0]}')"
   ]
  },
  {
   "cell_type": "markdown",
   "metadata": {},
   "source": [
    "#### - Измерьте отдельно precision@5 модели 1-ого уровня и двухуровневой модели на data_val_lvl_2\n",
    "\n",
    "# Прогнозирование моделью 1го уровня"
   ]
  },
  {
   "cell_type": "code",
   "execution_count": 23,
   "metadata": {},
   "outputs": [],
   "source": [
    "train_lvl1 = data[data['week_no'] < data['week_no'].max() - val_lvl_2_size_weeks]\n",
    "test_lvl1 = data[data['week_no'] >= data['week_no'].max() - val_lvl_2_size_weeks]"
   ]
  },
  {
   "cell_type": "code",
   "execution_count": 24,
   "metadata": {},
   "outputs": [],
   "source": [
    "train_lvl1 = prefilter_items(data=train_lvl1,\n",
    "                             item_features=item_features)"
   ]
  },
  {
   "cell_type": "code",
   "execution_count": 25,
   "metadata": {},
   "outputs": [
    {
     "data": {
      "application/vnd.jupyter.widget-view+json": {
       "model_id": "93666a3512ca438685178858c0492640",
       "version_major": 2,
       "version_minor": 0
      },
      "text/plain": [
       "HBox(children=(IntProgress(value=0, max=15), HTML(value='')))"
      ]
     },
     "metadata": {},
     "output_type": "display_data"
    },
    {
     "name": "stdout",
     "output_type": "stream",
     "text": [
      "\n"
     ]
    },
    {
     "data": {
      "application/vnd.jupyter.widget-view+json": {
       "model_id": "accacd8703094e56b13bbd778b196d44",
       "version_major": 2,
       "version_minor": 0
      },
      "text/plain": [
       "HBox(children=(IntProgress(value=0, max=5001), HTML(value='')))"
      ]
     },
     "metadata": {},
     "output_type": "display_data"
    },
    {
     "name": "stdout",
     "output_type": "stream",
     "text": [
      "\n"
     ]
    }
   ],
   "source": [
    "recommender1 = MainRecommender(train_lvl1)"
   ]
  },
  {
   "cell_type": "code",
   "execution_count": 26,
   "metadata": {},
   "outputs": [
    {
     "data": {
      "text/html": [
       "<div>\n",
       "<style scoped>\n",
       "    .dataframe tbody tr th:only-of-type {\n",
       "        vertical-align: middle;\n",
       "    }\n",
       "\n",
       "    .dataframe tbody tr th {\n",
       "        vertical-align: top;\n",
       "    }\n",
       "\n",
       "    .dataframe thead th {\n",
       "        text-align: right;\n",
       "    }\n",
       "</style>\n",
       "<table border=\"1\" class=\"dataframe\">\n",
       "  <thead>\n",
       "    <tr style=\"text-align: right;\">\n",
       "      <th></th>\n",
       "      <th>user_id</th>\n",
       "      <th>actual</th>\n",
       "    </tr>\n",
       "  </thead>\n",
       "  <tbody>\n",
       "    <tr>\n",
       "      <td>0</td>\n",
       "      <td>1</td>\n",
       "      <td>[821867, 834484, 856942, 865456, 889248, 90795...</td>\n",
       "    </tr>\n",
       "    <tr>\n",
       "      <td>1</td>\n",
       "      <td>3</td>\n",
       "      <td>[835476, 851057, 872021, 878302, 879948, 90963...</td>\n",
       "    </tr>\n",
       "    <tr>\n",
       "      <td>2</td>\n",
       "      <td>6</td>\n",
       "      <td>[920308, 926804, 946489, 1006718, 1017061, 107...</td>\n",
       "    </tr>\n",
       "    <tr>\n",
       "      <td>3</td>\n",
       "      <td>7</td>\n",
       "      <td>[840386, 889774, 898068, 909714, 929067, 95347...</td>\n",
       "    </tr>\n",
       "    <tr>\n",
       "      <td>4</td>\n",
       "      <td>8</td>\n",
       "      <td>[835098, 872137, 910439, 924610, 992977, 10412...</td>\n",
       "    </tr>\n",
       "  </tbody>\n",
       "</table>\n",
       "</div>"
      ],
      "text/plain": [
       "   user_id                                             actual\n",
       "0        1  [821867, 834484, 856942, 865456, 889248, 90795...\n",
       "1        3  [835476, 851057, 872021, 878302, 879948, 90963...\n",
       "2        6  [920308, 926804, 946489, 1006718, 1017061, 107...\n",
       "3        7  [840386, 889774, 898068, 909714, 929067, 95347...\n",
       "4        8  [835098, 872137, 910439, 924610, 992977, 10412..."
      ]
     },
     "execution_count": 26,
     "metadata": {},
     "output_type": "execute_result"
    }
   ],
   "source": [
    "result_lvl1 = test_lvl1.groupby('user_id')['item_id'].unique().reset_index()\n",
    "result_lvl1.columns = ['user_id', 'actual']\n",
    "\n",
    "# удаление тех пользователей, на которых модель не обучалась\n",
    "result_lvl1 = result_lvl1[result_lvl1['user_id'].isin(train_lvl1['user_id'])]\n",
    "result_lvl1.head()"
   ]
  },
  {
   "cell_type": "code",
   "execution_count": 27,
   "metadata": {},
   "outputs": [
    {
     "data": {
      "text/html": [
       "<div>\n",
       "<style scoped>\n",
       "    .dataframe tbody tr th:only-of-type {\n",
       "        vertical-align: middle;\n",
       "    }\n",
       "\n",
       "    .dataframe tbody tr th {\n",
       "        vertical-align: top;\n",
       "    }\n",
       "\n",
       "    .dataframe thead th {\n",
       "        text-align: right;\n",
       "    }\n",
       "</style>\n",
       "<table border=\"1\" class=\"dataframe\">\n",
       "  <thead>\n",
       "    <tr style=\"text-align: right;\">\n",
       "      <th></th>\n",
       "      <th>user_id</th>\n",
       "      <th>actual</th>\n",
       "      <th>own</th>\n",
       "    </tr>\n",
       "  </thead>\n",
       "  <tbody>\n",
       "    <tr>\n",
       "      <td>0</td>\n",
       "      <td>1</td>\n",
       "      <td>[821867, 834484, 856942, 865456, 889248, 90795...</td>\n",
       "      <td>[856942, 9297615, 5577022, 1074612, 9655212, 8...</td>\n",
       "    </tr>\n",
       "    <tr>\n",
       "      <td>1</td>\n",
       "      <td>3</td>\n",
       "      <td>[835476, 851057, 872021, 878302, 879948, 90963...</td>\n",
       "      <td>[921345, 998206, 1092937, 964594, 864615, 9327...</td>\n",
       "    </tr>\n",
       "    <tr>\n",
       "      <td>2</td>\n",
       "      <td>6</td>\n",
       "      <td>[920308, 926804, 946489, 1006718, 1017061, 107...</td>\n",
       "      <td>[13003092, 1119051, 9911484, 8203834, 5569792,...</td>\n",
       "    </tr>\n",
       "    <tr>\n",
       "      <td>3</td>\n",
       "      <td>7</td>\n",
       "      <td>[840386, 889774, 898068, 909714, 929067, 95347...</td>\n",
       "      <td>[845814, 949836, 1075524, 9338009, 1097544, 69...</td>\n",
       "    </tr>\n",
       "    <tr>\n",
       "      <td>4</td>\n",
       "      <td>8</td>\n",
       "      <td>[835098, 872137, 910439, 924610, 992977, 10412...</td>\n",
       "      <td>[1116578, 969932, 981660, 1105433, 5577022, 82...</td>\n",
       "    </tr>\n",
       "  </tbody>\n",
       "</table>\n",
       "</div>"
      ],
      "text/plain": [
       "   user_id                                             actual  \\\n",
       "0        1  [821867, 834484, 856942, 865456, 889248, 90795...   \n",
       "1        3  [835476, 851057, 872021, 878302, 879948, 90963...   \n",
       "2        6  [920308, 926804, 946489, 1006718, 1017061, 107...   \n",
       "3        7  [840386, 889774, 898068, 909714, 929067, 95347...   \n",
       "4        8  [835098, 872137, 910439, 924610, 992977, 10412...   \n",
       "\n",
       "                                                 own  \n",
       "0  [856942, 9297615, 5577022, 1074612, 9655212, 8...  \n",
       "1  [921345, 998206, 1092937, 964594, 864615, 9327...  \n",
       "2  [13003092, 1119051, 9911484, 8203834, 5569792,...  \n",
       "3  [845814, 949836, 1075524, 9338009, 1097544, 69...  \n",
       "4  [1116578, 969932, 981660, 1105433, 5577022, 82...  "
      ]
     },
     "execution_count": 27,
     "metadata": {},
     "output_type": "execute_result"
    }
   ],
   "source": [
    "N = 200\n",
    "# прогнозирование результатов и добавление ление в фрейм\n",
    "\n",
    "result_lvl1['own'] = result_lvl1['user_id'].apply(\n",
    "    lambda x: recommender1.get_own_recommendations(user=x, N=N)\n",
    ")# apply\n",
    "\n",
    "result_lvl1.head()"
   ]
  },
  {
   "cell_type": "code",
   "execution_count": 28,
   "metadata": {},
   "outputs": [
    {
     "data": {
      "text/html": [
       "<div>\n",
       "<style scoped>\n",
       "    .dataframe tbody tr th:only-of-type {\n",
       "        vertical-align: middle;\n",
       "    }\n",
       "\n",
       "    .dataframe tbody tr th {\n",
       "        vertical-align: top;\n",
       "    }\n",
       "\n",
       "    .dataframe thead th {\n",
       "        text-align: right;\n",
       "    }\n",
       "</style>\n",
       "<table border=\"1\" class=\"dataframe\">\n",
       "  <thead>\n",
       "    <tr style=\"text-align: right;\">\n",
       "      <th></th>\n",
       "      <th>own</th>\n",
       "    </tr>\n",
       "    <tr>\n",
       "      <th>precision@5</th>\n",
       "      <th></th>\n",
       "    </tr>\n",
       "  </thead>\n",
       "  <tbody>\n",
       "    <tr>\n",
       "      <td>level 1</td>\n",
       "      <td>0.230264</td>\n",
       "    </tr>\n",
       "  </tbody>\n",
       "</table>\n",
       "</div>"
      ],
      "text/plain": [
       "                  own\n",
       "precision@5          \n",
       "level 1      0.230264"
      ]
     },
     "execution_count": 28,
     "metadata": {},
     "output_type": "execute_result"
    }
   ],
   "source": [
    "precisions_lvls = pd.DataFrame(columns=['precision@5', ' own']).set_index('precision@5')\n",
    "\n",
    "precisions_lvls.loc['level 1'] = evaluete_rec(data=result_lvl1, true='actual', metric='precision@k', k=5)\n",
    "precisions_lvls"
   ]
  },
  {
   "cell_type": "markdown",
   "metadata": {},
   "source": [
    "# Прогнозирование моделью 2го уровня"
   ]
  },
  {
   "cell_type": "code",
   "execution_count": 29,
   "metadata": {},
   "outputs": [
    {
     "data": {
      "text/html": [
       "<div>\n",
       "<style scoped>\n",
       "    .dataframe tbody tr th:only-of-type {\n",
       "        vertical-align: middle;\n",
       "    }\n",
       "\n",
       "    .dataframe tbody tr th {\n",
       "        vertical-align: top;\n",
       "    }\n",
       "\n",
       "    .dataframe thead th {\n",
       "        text-align: right;\n",
       "    }\n",
       "</style>\n",
       "<table border=\"1\" class=\"dataframe\">\n",
       "  <thead>\n",
       "    <tr style=\"text-align: right;\">\n",
       "      <th></th>\n",
       "      <th>user_id</th>\n",
       "      <th>item_id</th>\n",
       "      <th>target</th>\n",
       "      <th>manufacturer</th>\n",
       "      <th>department</th>\n",
       "      <th>brand</th>\n",
       "      <th>commodity_desc</th>\n",
       "      <th>sub_commodity_desc</th>\n",
       "      <th>curr_size_of_product</th>\n",
       "      <th>age_desc</th>\n",
       "      <th>marital_status_code</th>\n",
       "      <th>income_desc</th>\n",
       "      <th>homeowner_desc</th>\n",
       "      <th>hh_comp_desc</th>\n",
       "      <th>household_size_desc</th>\n",
       "      <th>kid_category_desc</th>\n",
       "    </tr>\n",
       "  </thead>\n",
       "  <tbody>\n",
       "    <tr>\n",
       "      <td>0</td>\n",
       "      <td>2070</td>\n",
       "      <td>834103</td>\n",
       "      <td>1.0</td>\n",
       "      <td>2224</td>\n",
       "      <td>GROCERY</td>\n",
       "      <td>National</td>\n",
       "      <td>SOFT DRINKS</td>\n",
       "      <td>SFT DRNK SNGL SRV BTL CARB (EX</td>\n",
       "      <td>20 OZ</td>\n",
       "      <td>45-54</td>\n",
       "      <td>U</td>\n",
       "      <td>50-74K</td>\n",
       "      <td>Unknown</td>\n",
       "      <td>Unknown</td>\n",
       "      <td>1</td>\n",
       "      <td>None/Unknown</td>\n",
       "    </tr>\n",
       "    <tr>\n",
       "      <td>1</td>\n",
       "      <td>2070</td>\n",
       "      <td>834103</td>\n",
       "      <td>1.0</td>\n",
       "      <td>2224</td>\n",
       "      <td>GROCERY</td>\n",
       "      <td>National</td>\n",
       "      <td>SOFT DRINKS</td>\n",
       "      <td>SFT DRNK SNGL SRV BTL CARB (EX</td>\n",
       "      <td>20 OZ</td>\n",
       "      <td>45-54</td>\n",
       "      <td>U</td>\n",
       "      <td>50-74K</td>\n",
       "      <td>Unknown</td>\n",
       "      <td>Unknown</td>\n",
       "      <td>1</td>\n",
       "      <td>None/Unknown</td>\n",
       "    </tr>\n",
       "    <tr>\n",
       "      <td>2</td>\n",
       "      <td>2070</td>\n",
       "      <td>834103</td>\n",
       "      <td>1.0</td>\n",
       "      <td>2224</td>\n",
       "      <td>GROCERY</td>\n",
       "      <td>National</td>\n",
       "      <td>SOFT DRINKS</td>\n",
       "      <td>SFT DRNK SNGL SRV BTL CARB (EX</td>\n",
       "      <td>20 OZ</td>\n",
       "      <td>45-54</td>\n",
       "      <td>U</td>\n",
       "      <td>50-74K</td>\n",
       "      <td>Unknown</td>\n",
       "      <td>Unknown</td>\n",
       "      <td>1</td>\n",
       "      <td>None/Unknown</td>\n",
       "    </tr>\n",
       "    <tr>\n",
       "      <td>3</td>\n",
       "      <td>2070</td>\n",
       "      <td>834103</td>\n",
       "      <td>1.0</td>\n",
       "      <td>2224</td>\n",
       "      <td>GROCERY</td>\n",
       "      <td>National</td>\n",
       "      <td>SOFT DRINKS</td>\n",
       "      <td>SFT DRNK SNGL SRV BTL CARB (EX</td>\n",
       "      <td>20 OZ</td>\n",
       "      <td>45-54</td>\n",
       "      <td>U</td>\n",
       "      <td>50-74K</td>\n",
       "      <td>Unknown</td>\n",
       "      <td>Unknown</td>\n",
       "      <td>1</td>\n",
       "      <td>None/Unknown</td>\n",
       "    </tr>\n",
       "    <tr>\n",
       "      <td>4</td>\n",
       "      <td>2070</td>\n",
       "      <td>834103</td>\n",
       "      <td>1.0</td>\n",
       "      <td>2224</td>\n",
       "      <td>GROCERY</td>\n",
       "      <td>National</td>\n",
       "      <td>SOFT DRINKS</td>\n",
       "      <td>SFT DRNK SNGL SRV BTL CARB (EX</td>\n",
       "      <td>20 OZ</td>\n",
       "      <td>45-54</td>\n",
       "      <td>U</td>\n",
       "      <td>50-74K</td>\n",
       "      <td>Unknown</td>\n",
       "      <td>Unknown</td>\n",
       "      <td>1</td>\n",
       "      <td>None/Unknown</td>\n",
       "    </tr>\n",
       "  </tbody>\n",
       "</table>\n",
       "</div>"
      ],
      "text/plain": [
       "   user_id  item_id  target  manufacturer department     brand commodity_desc  \\\n",
       "0     2070   834103     1.0          2224    GROCERY  National    SOFT DRINKS   \n",
       "1     2070   834103     1.0          2224    GROCERY  National    SOFT DRINKS   \n",
       "2     2070   834103     1.0          2224    GROCERY  National    SOFT DRINKS   \n",
       "3     2070   834103     1.0          2224    GROCERY  National    SOFT DRINKS   \n",
       "4     2070   834103     1.0          2224    GROCERY  National    SOFT DRINKS   \n",
       "\n",
       "               sub_commodity_desc curr_size_of_product age_desc  \\\n",
       "0  SFT DRNK SNGL SRV BTL CARB (EX                20 OZ    45-54   \n",
       "1  SFT DRNK SNGL SRV BTL CARB (EX                20 OZ    45-54   \n",
       "2  SFT DRNK SNGL SRV BTL CARB (EX                20 OZ    45-54   \n",
       "3  SFT DRNK SNGL SRV BTL CARB (EX                20 OZ    45-54   \n",
       "4  SFT DRNK SNGL SRV BTL CARB (EX                20 OZ    45-54   \n",
       "\n",
       "  marital_status_code income_desc homeowner_desc hh_comp_desc  \\\n",
       "0                   U      50-74K        Unknown      Unknown   \n",
       "1                   U      50-74K        Unknown      Unknown   \n",
       "2                   U      50-74K        Unknown      Unknown   \n",
       "3                   U      50-74K        Unknown      Unknown   \n",
       "4                   U      50-74K        Unknown      Unknown   \n",
       "\n",
       "  household_size_desc kid_category_desc  \n",
       "0                   1      None/Unknown  \n",
       "1                   1      None/Unknown  \n",
       "2                   1      None/Unknown  \n",
       "3                   1      None/Unknown  \n",
       "4                   1      None/Unknown  "
      ]
     },
     "execution_count": 29,
     "metadata": {},
     "output_type": "execute_result"
    }
   ],
   "source": [
    "targets_val_lvl_2 = data_val_lvl_2[['user_id', 'item_id']].copy()\n",
    "targets_val_lvl_2['target'] = 1  # тут только покупки \n",
    "\n",
    "targets_val_lvl_2 = df.merge(targets_val_lvl_2, on=['user_id', 'item_id'], how='left')\n",
    "\n",
    "targets_val_lvl_2['target'].fillna(0, inplace= True)\n",
    "\n",
    "targets_val_lvl_2 = targets_val_lvl_2.merge(item_features, on='item_id', how='left')\n",
    "targets_val_lvl_2 = targets_val_lvl_2.merge(user_features, on='user_id', how='left')\n",
    "\n",
    "targets_val_lvl_2.head()"
   ]
  },
  {
   "cell_type": "code",
   "execution_count": 30,
   "metadata": {},
   "outputs": [],
   "source": [
    "X_test = targets_val_lvl_2.drop('target', axis=1)\n",
    "y_test = targets_val_lvl_2[['target']]\n",
    "\n",
    "X_test[cat_feats] = X_test[cat_feats].astype('category')"
   ]
  },
  {
   "cell_type": "code",
   "execution_count": 31,
   "metadata": {},
   "outputs": [
    {
     "data": {
      "text/plain": [
       "array([0., 0., 0., ..., 0., 0., 0.])"
      ]
     },
     "execution_count": 31,
     "metadata": {},
     "output_type": "execute_result"
    }
   ],
   "source": [
    "test_preds = lgb.predict(X_test)\n",
    "test_preds"
   ]
  },
  {
   "cell_type": "code",
   "execution_count": 32,
   "metadata": {},
   "outputs": [
    {
     "name": "stdout",
     "output_type": "stream",
     "text": [
      "precision@5 (test) = 0.45623229461756376\n"
     ]
    }
   ],
   "source": [
    "print(f'precision@5 (test) = {eval_lgbm(targets=targets_val_lvl_2, preds=test_preds)[0]}')"
   ]
  },
  {
   "cell_type": "markdown",
   "metadata": {},
   "source": [
    "#### - Вырос ли precision@5 при использовании двухуровневой модели?\n",
    "\n",
    "Видно, что в двухуровневой модели precision вырос почти в 2 раза по сравнению с одноуровневой"
   ]
  }
 ],
 "metadata": {
  "kernelspec": {
   "display_name": "Python 3",
   "language": "python",
   "name": "python3"
  },
  "language_info": {
   "codemirror_mode": {
    "name": "ipython",
    "version": 3
   },
   "file_extension": ".py",
   "mimetype": "text/x-python",
   "name": "python",
   "nbconvert_exporter": "python",
   "pygments_lexer": "ipython3",
   "version": "3.7.4"
  }
 },
 "nbformat": 4,
 "nbformat_minor": 2
}
