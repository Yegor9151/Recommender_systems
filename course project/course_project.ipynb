{
 "cells": [
  {
   "cell_type": "markdown",
   "metadata": {},
   "source": [
    "# Импорт библеотек"
   ]
  },
  {
   "cell_type": "code",
   "execution_count": 1,
   "metadata": {},
   "outputs": [],
   "source": [
    "# проведение пути до собственных модулей\n",
    "import sys\n",
    "sys.path.append('../')"
   ]
  },
  {
   "cell_type": "code",
   "execution_count": 2,
   "metadata": {},
   "outputs": [],
   "source": [
    "# основные модули\n",
    "import numpy as np\n",
    "import pandas as pd\n",
    "import matplotlib.pyplot as plt\n",
    "%matplotlib inline\n",
    "\n",
    "# загрузка собственных модулей\n",
    "from src.utils import prefilter_items\n",
    "from src.metrics import precision_at_k, recall_at_k, evaluete_rec\n",
    "from src.myf import reduction_memory\n",
    "from src.recommenders import MainRecommender\n",
    "\n",
    "# отключение предупреждений\n",
    "import warnings\n",
    "warnings.filterwarnings('ignore')"
   ]
  },
  {
   "cell_type": "markdown",
   "metadata": {},
   "source": [
    "# Загрузка данных"
   ]
  },
  {
   "cell_type": "code",
   "execution_count": 3,
   "metadata": {},
   "outputs": [
    {
     "name": "stdout",
     "output_type": "stream",
     "text": [
      "before:\t\t230.09 MB\n",
      "after:\t\t141.41 MB\n",
      "reduсed:\t88.68 MB\n",
      "before:\t\t8.52 MB\n",
      "after:\t\t5.24 MB\n",
      "reduсed:\t3.28 MB\n",
      "before:\t\t5.17 MB\n",
      "after:\t\t4.25 MB\n",
      "reduсed:\t0.92 MB\n"
     ]
    }
   ],
   "source": [
    "# создание датафреймов\n",
    "train_test = pd.read_csv('../data/retail_train.csv')\n",
    "test_lvl2 = pd.read_csv('../data/retail_test.csv')\n",
    "item_features = pd.read_csv('../data/product.csv')\n",
    "user_features = pd.read_csv('../data/hh_demographic.csv')\n",
    "\n",
    "# снижение веса датафлеймов\n",
    "train_test, test_lvl2, item_features = map(reduction_memory, [train_test, test_lvl2, item_features])"
   ]
  },
  {
   "cell_type": "code",
   "execution_count": 4,
   "metadata": {},
   "outputs": [],
   "source": [
    "# lower columns\n",
    "item_features.columns = [col.lower() for col in item_features.columns]\n",
    "user_features.columns = [col.lower() for col in user_features.columns]\n",
    "\n",
    "# rename columns\n",
    "item_features.rename(columns={'product_id': 'item_id'}, inplace=True)\n",
    "user_features.rename(columns={'household_key': 'user_id'}, inplace=True)"
   ]
  },
  {
   "cell_type": "markdown",
   "metadata": {},
   "source": [
    "# Разбиение на тестовые трейновые фреймы"
   ]
  },
  {
   "cell_type": "code",
   "execution_count": 5,
   "metadata": {},
   "outputs": [],
   "source": [
    "weeks_lvl1 = 9\n",
    "\n",
    "# 1й уровень\n",
    "train_lvl1 = train_test[train_test['week_no'] < train_test['week_no'].max() - weeks_lvl1]\n",
    "test_lvl1 = train_test[train_test['week_no'] >= train_test['week_no'].max() - weeks_lvl1]\n",
    "\n",
    "# 2й уровень\n",
    "train_lvl2 = test_lvl1.copy()"
   ]
  },
  {
   "cell_type": "markdown",
   "metadata": {},
   "source": [
    "# Обучение двухуровневой модели\n",
    "\n",
    "## Модель 1го уровня"
   ]
  },
  {
   "cell_type": "code",
   "execution_count": 6,
   "metadata": {},
   "outputs": [
    {
     "data": {
      "text/html": [
       "<div>\n",
       "<style scoped>\n",
       "    .dataframe tbody tr th:only-of-type {\n",
       "        vertical-align: middle;\n",
       "    }\n",
       "\n",
       "    .dataframe tbody tr th {\n",
       "        vertical-align: top;\n",
       "    }\n",
       "\n",
       "    .dataframe thead th {\n",
       "        text-align: right;\n",
       "    }\n",
       "</style>\n",
       "<table border=\"1\" class=\"dataframe\">\n",
       "  <thead>\n",
       "    <tr style=\"text-align: right;\">\n",
       "      <th></th>\n",
       "      <th>user_id</th>\n",
       "      <th>basket_id</th>\n",
       "      <th>day</th>\n",
       "      <th>item_id</th>\n",
       "      <th>quantity</th>\n",
       "      <th>sales_value</th>\n",
       "      <th>store_id</th>\n",
       "      <th>retail_disc</th>\n",
       "      <th>trans_time</th>\n",
       "      <th>week_no</th>\n",
       "      <th>coupon_disc</th>\n",
       "      <th>coupon_match_disc</th>\n",
       "      <th>price</th>\n",
       "    </tr>\n",
       "  </thead>\n",
       "  <tbody>\n",
       "    <tr>\n",
       "      <td>0</td>\n",
       "      <td>2375</td>\n",
       "      <td>26984851472</td>\n",
       "      <td>1</td>\n",
       "      <td>1004906</td>\n",
       "      <td>1</td>\n",
       "      <td>1.39</td>\n",
       "      <td>364</td>\n",
       "      <td>-0.60</td>\n",
       "      <td>1631</td>\n",
       "      <td>1</td>\n",
       "      <td>0.0</td>\n",
       "      <td>0.0</td>\n",
       "      <td>1.39</td>\n",
       "    </tr>\n",
       "    <tr>\n",
       "      <td>1</td>\n",
       "      <td>2375</td>\n",
       "      <td>26984851472</td>\n",
       "      <td>1</td>\n",
       "      <td>1033142</td>\n",
       "      <td>1</td>\n",
       "      <td>0.82</td>\n",
       "      <td>364</td>\n",
       "      <td>0.00</td>\n",
       "      <td>1631</td>\n",
       "      <td>1</td>\n",
       "      <td>0.0</td>\n",
       "      <td>0.0</td>\n",
       "      <td>0.82</td>\n",
       "    </tr>\n",
       "    <tr>\n",
       "      <td>2</td>\n",
       "      <td>2375</td>\n",
       "      <td>26984851472</td>\n",
       "      <td>1</td>\n",
       "      <td>1036325</td>\n",
       "      <td>1</td>\n",
       "      <td>0.99</td>\n",
       "      <td>364</td>\n",
       "      <td>-0.30</td>\n",
       "      <td>1631</td>\n",
       "      <td>1</td>\n",
       "      <td>0.0</td>\n",
       "      <td>0.0</td>\n",
       "      <td>0.99</td>\n",
       "    </tr>\n",
       "    <tr>\n",
       "      <td>3</td>\n",
       "      <td>2375</td>\n",
       "      <td>26984851472</td>\n",
       "      <td>1</td>\n",
       "      <td>1082185</td>\n",
       "      <td>1</td>\n",
       "      <td>1.21</td>\n",
       "      <td>364</td>\n",
       "      <td>0.00</td>\n",
       "      <td>1631</td>\n",
       "      <td>1</td>\n",
       "      <td>0.0</td>\n",
       "      <td>0.0</td>\n",
       "      <td>1.21</td>\n",
       "    </tr>\n",
       "    <tr>\n",
       "      <td>4</td>\n",
       "      <td>2375</td>\n",
       "      <td>26984851472</td>\n",
       "      <td>1</td>\n",
       "      <td>8160430</td>\n",
       "      <td>1</td>\n",
       "      <td>1.50</td>\n",
       "      <td>364</td>\n",
       "      <td>-0.39</td>\n",
       "      <td>1631</td>\n",
       "      <td>1</td>\n",
       "      <td>0.0</td>\n",
       "      <td>0.0</td>\n",
       "      <td>1.50</td>\n",
       "    </tr>\n",
       "  </tbody>\n",
       "</table>\n",
       "</div>"
      ],
      "text/plain": [
       "   user_id    basket_id  day  item_id  quantity  sales_value  store_id  \\\n",
       "0     2375  26984851472    1  1004906         1         1.39       364   \n",
       "1     2375  26984851472    1  1033142         1         0.82       364   \n",
       "2     2375  26984851472    1  1036325         1         0.99       364   \n",
       "3     2375  26984851472    1  1082185         1         1.21       364   \n",
       "4     2375  26984851472    1  8160430         1         1.50       364   \n",
       "\n",
       "   retail_disc  trans_time  week_no  coupon_disc  coupon_match_disc  price  \n",
       "0        -0.60        1631        1          0.0                0.0   1.39  \n",
       "1         0.00        1631        1          0.0                0.0   0.82  \n",
       "2        -0.30        1631        1          0.0                0.0   0.99  \n",
       "3         0.00        1631        1          0.0                0.0   1.21  \n",
       "4        -0.39        1631        1          0.0                0.0   1.50  "
      ]
     },
     "execution_count": 6,
     "metadata": {},
     "output_type": "execute_result"
    }
   ],
   "source": [
    "# предфильтрация трейна 1го уровня\n",
    "train_lvl1 = prefilter_items(train_lvl1, item_features=item_features)\n",
    "train_lvl1.head()"
   ]
  },
  {
   "cell_type": "code",
   "execution_count": 7,
   "metadata": {},
   "outputs": [
    {
     "name": "stderr",
     "output_type": "stream",
     "text": [
      "WARNING:root:Intel MKL BLAS detected. Its highly recommend to set the environment variable 'export MKL_NUM_THREADS=1' to disable its internal multithreading\n"
     ]
    },
    {
     "data": {
      "application/vnd.jupyter.widget-view+json": {
       "model_id": "98c3de259e5e4f4db7b583a1d6fc97ba",
       "version_major": 2,
       "version_minor": 0
      },
      "text/plain": [
       "HBox(children=(IntProgress(value=0, max=15), HTML(value='')))"
      ]
     },
     "metadata": {},
     "output_type": "display_data"
    },
    {
     "name": "stdout",
     "output_type": "stream",
     "text": [
      "\n"
     ]
    },
    {
     "data": {
      "application/vnd.jupyter.widget-view+json": {
       "model_id": "9b4b8f16281040f687cb8da1bc37db84",
       "version_major": 2,
       "version_minor": 0
      },
      "text/plain": [
       "HBox(children=(IntProgress(value=0, max=5001), HTML(value='')))"
      ]
     },
     "metadata": {},
     "output_type": "display_data"
    },
    {
     "name": "stdout",
     "output_type": "stream",
     "text": [
      "\n"
     ]
    }
   ],
   "source": [
    "# обучение модели 1го уровня\n",
    "recommender_lvl1 = MainRecommender(train_lvl1)"
   ]
  },
  {
   "cell_type": "markdown",
   "metadata": {},
   "source": [
    "### Прогнозирование рекоммендаций моделью 1го уровня"
   ]
  },
  {
   "cell_type": "code",
   "execution_count": 8,
   "metadata": {},
   "outputs": [
    {
     "data": {
      "text/html": [
       "<div>\n",
       "<style scoped>\n",
       "    .dataframe tbody tr th:only-of-type {\n",
       "        vertical-align: middle;\n",
       "    }\n",
       "\n",
       "    .dataframe tbody tr th {\n",
       "        vertical-align: top;\n",
       "    }\n",
       "\n",
       "    .dataframe thead th {\n",
       "        text-align: right;\n",
       "    }\n",
       "</style>\n",
       "<table border=\"1\" class=\"dataframe\">\n",
       "  <thead>\n",
       "    <tr style=\"text-align: right;\">\n",
       "      <th></th>\n",
       "      <th>user_id</th>\n",
       "      <th>actual</th>\n",
       "    </tr>\n",
       "  </thead>\n",
       "  <tbody>\n",
       "    <tr>\n",
       "      <td>0</td>\n",
       "      <td>1</td>\n",
       "      <td>[853529, 865456, 867607, 872137, 874905, 87524...</td>\n",
       "    </tr>\n",
       "    <tr>\n",
       "      <td>1</td>\n",
       "      <td>2</td>\n",
       "      <td>[15830248, 838136, 839656, 861272, 866211, 870...</td>\n",
       "    </tr>\n",
       "    <tr>\n",
       "      <td>2</td>\n",
       "      <td>3</td>\n",
       "      <td>[835476, 851057, 872021, 878302, 879948, 90963...</td>\n",
       "    </tr>\n",
       "    <tr>\n",
       "      <td>3</td>\n",
       "      <td>4</td>\n",
       "      <td>[883932, 970760, 1035676, 1055863, 1097610, 67...</td>\n",
       "    </tr>\n",
       "    <tr>\n",
       "      <td>4</td>\n",
       "      <td>6</td>\n",
       "      <td>[1024306, 1102949, 6548453, 835394, 940804, 96...</td>\n",
       "    </tr>\n",
       "  </tbody>\n",
       "</table>\n",
       "</div>"
      ],
      "text/plain": [
       "   user_id                                             actual\n",
       "0        1  [853529, 865456, 867607, 872137, 874905, 87524...\n",
       "1        2  [15830248, 838136, 839656, 861272, 866211, 870...\n",
       "2        3  [835476, 851057, 872021, 878302, 879948, 90963...\n",
       "3        4  [883932, 970760, 1035676, 1055863, 1097610, 67...\n",
       "4        6  [1024306, 1102949, 6548453, 835394, 940804, 96..."
      ]
     },
     "execution_count": 8,
     "metadata": {},
     "output_type": "execute_result"
    }
   ],
   "source": [
    "# создание фрейма результатов 1го уровня\n",
    "result_lvl1 = test_lvl1.groupby('user_id')['item_id'].unique().reset_index()\n",
    "result_lvl1.columns = ['user_id', 'actual']\n",
    "\n",
    "# удаление тех пользователей, на которых модель не обучалась\n",
    "result_lvl1 = result_lvl1[result_lvl1['user_id'].isin(train_lvl1['user_id'])]\n",
    "result_lvl1.head()"
   ]
  },
  {
   "cell_type": "code",
   "execution_count": 9,
   "metadata": {},
   "outputs": [
    {
     "data": {
      "text/html": [
       "<div>\n",
       "<style scoped>\n",
       "    .dataframe tbody tr th:only-of-type {\n",
       "        vertical-align: middle;\n",
       "    }\n",
       "\n",
       "    .dataframe tbody tr th {\n",
       "        vertical-align: top;\n",
       "    }\n",
       "\n",
       "    .dataframe thead th {\n",
       "        text-align: right;\n",
       "    }\n",
       "</style>\n",
       "<table border=\"1\" class=\"dataframe\">\n",
       "  <thead>\n",
       "    <tr style=\"text-align: right;\">\n",
       "      <th></th>\n",
       "      <th>user_id</th>\n",
       "      <th>actual</th>\n",
       "      <th>similar_items</th>\n",
       "      <th>als</th>\n",
       "      <th>own</th>\n",
       "    </tr>\n",
       "  </thead>\n",
       "  <tbody>\n",
       "    <tr>\n",
       "      <td>0</td>\n",
       "      <td>1</td>\n",
       "      <td>[853529, 865456, 867607, 872137, 874905, 87524...</td>\n",
       "      <td>[12352293, 999999, 1082185, 9526410, 7135183]</td>\n",
       "      <td>[1004390, 7467039, 1082212, 1062572, 1082185]</td>\n",
       "      <td>[856942, 9297615, 5577022, 1074612, 9655212]</td>\n",
       "    </tr>\n",
       "    <tr>\n",
       "      <td>1</td>\n",
       "      <td>2</td>\n",
       "      <td>[15830248, 838136, 839656, 861272, 866211, 870...</td>\n",
       "      <td>[8090509, 1133018, 7025275, 1106523, 985999]</td>\n",
       "      <td>[880150, 1009449, 5569230, 1041259, 916122]</td>\n",
       "      <td>[1076580, 911974, 826784, 1083296, 838136]</td>\n",
       "    </tr>\n",
       "    <tr>\n",
       "      <td>2</td>\n",
       "      <td>3</td>\n",
       "      <td>[835476, 851057, 872021, 878302, 879948, 90963...</td>\n",
       "      <td>[1076875, 909396, 960318, 1075979, 1133018]</td>\n",
       "      <td>[1110244, 951590, 5569230, 8090521, 883404]</td>\n",
       "      <td>[835476, 921345, 998206, 1092937, 964594]</td>\n",
       "    </tr>\n",
       "    <tr>\n",
       "      <td>3</td>\n",
       "      <td>4</td>\n",
       "      <td>[883932, 970760, 1035676, 1055863, 1097610, 67...</td>\n",
       "      <td>[951590, 1119454, 856772, 1055425, 1133312]</td>\n",
       "      <td>[8090521, 1119454, 891423, 902172, 873627]</td>\n",
       "      <td>[891423, 910109, 887003, 1121367, 951821]</td>\n",
       "    </tr>\n",
       "    <tr>\n",
       "      <td>4</td>\n",
       "      <td>6</td>\n",
       "      <td>[1024306, 1102949, 6548453, 835394, 940804, 96...</td>\n",
       "      <td>[999999, 904360, 825541, 845208, 948650]</td>\n",
       "      <td>[1082185, 1042616, 863632, 1024306, 878996]</td>\n",
       "      <td>[13003092, 1119051, 9911484, 8203834, 1108094]</td>\n",
       "    </tr>\n",
       "  </tbody>\n",
       "</table>\n",
       "</div>"
      ],
      "text/plain": [
       "   user_id                                             actual  \\\n",
       "0        1  [853529, 865456, 867607, 872137, 874905, 87524...   \n",
       "1        2  [15830248, 838136, 839656, 861272, 866211, 870...   \n",
       "2        3  [835476, 851057, 872021, 878302, 879948, 90963...   \n",
       "3        4  [883932, 970760, 1035676, 1055863, 1097610, 67...   \n",
       "4        6  [1024306, 1102949, 6548453, 835394, 940804, 96...   \n",
       "\n",
       "                                   similar_items  \\\n",
       "0  [12352293, 999999, 1082185, 9526410, 7135183]   \n",
       "1   [8090509, 1133018, 7025275, 1106523, 985999]   \n",
       "2    [1076875, 909396, 960318, 1075979, 1133018]   \n",
       "3    [951590, 1119454, 856772, 1055425, 1133312]   \n",
       "4       [999999, 904360, 825541, 845208, 948650]   \n",
       "\n",
       "                                             als  \\\n",
       "0  [1004390, 7467039, 1082212, 1062572, 1082185]   \n",
       "1    [880150, 1009449, 5569230, 1041259, 916122]   \n",
       "2    [1110244, 951590, 5569230, 8090521, 883404]   \n",
       "3     [8090521, 1119454, 891423, 902172, 873627]   \n",
       "4    [1082185, 1042616, 863632, 1024306, 878996]   \n",
       "\n",
       "                                              own  \n",
       "0    [856942, 9297615, 5577022, 1074612, 9655212]  \n",
       "1      [1076580, 911974, 826784, 1083296, 838136]  \n",
       "2       [835476, 921345, 998206, 1092937, 964594]  \n",
       "3       [891423, 910109, 887003, 1121367, 951821]  \n",
       "4  [13003092, 1119051, 9911484, 8203834, 1108094]  "
      ]
     },
     "execution_count": 9,
     "metadata": {},
     "output_type": "execute_result"
    }
   ],
   "source": [
    "k = 5\n",
    "\n",
    "# прогнозирование результатов и добавление ление в фрейм\n",
    "result_lvl1['similar_items'] = result_lvl1['user_id'].apply(\n",
    "    lambda x: recommender_lvl1.get_similar_items_recommendation(user=x, N=k)\n",
    ")# apply\n",
    "\n",
    "result_lvl1['als'] = result_lvl1['user_id'].apply(\n",
    "    lambda x: recommender_lvl1.get_als_recommendations(user=x, N=k)\n",
    ")# apply\n",
    "\n",
    "result_lvl1['own'] = result_lvl1['user_id'].apply(\n",
    "    lambda x: recommender_lvl1.get_own_recommendations(user=x, N=k)\n",
    ")# apply\n",
    "\n",
    "result_lvl1.head()"
   ]
  },
  {
   "cell_type": "markdown",
   "metadata": {},
   "source": [
    "### Оценка рекоммендаций 1го уровня"
   ]
  },
  {
   "cell_type": "code",
   "execution_count": 10,
   "metadata": {},
   "outputs": [
    {
     "data": {
      "text/html": [
       "<div>\n",
       "<style scoped>\n",
       "    .dataframe tbody tr th:only-of-type {\n",
       "        vertical-align: middle;\n",
       "    }\n",
       "\n",
       "    .dataframe tbody tr th {\n",
       "        vertical-align: top;\n",
       "    }\n",
       "\n",
       "    .dataframe thead th {\n",
       "        text-align: right;\n",
       "    }\n",
       "</style>\n",
       "<table border=\"1\" class=\"dataframe\">\n",
       "  <thead>\n",
       "    <tr style=\"text-align: right;\">\n",
       "      <th></th>\n",
       "      <th>similar_items</th>\n",
       "      <th>als</th>\n",
       "      <th>own</th>\n",
       "    </tr>\n",
       "    <tr>\n",
       "      <th>recall@5</th>\n",
       "      <th></th>\n",
       "      <th></th>\n",
       "      <th></th>\n",
       "    </tr>\n",
       "  </thead>\n",
       "  <tbody>\n",
       "    <tr>\n",
       "      <td>level 1</td>\n",
       "      <td>0.008587</td>\n",
       "      <td>0.013422</td>\n",
       "      <td>0.022427</td>\n",
       "    </tr>\n",
       "  </tbody>\n",
       "</table>\n",
       "</div>"
      ],
      "text/plain": [
       "          similar_items       als       own\n",
       "recall@5                                   \n",
       "level 1        0.008587  0.013422  0.022427"
      ]
     },
     "execution_count": 10,
     "metadata": {},
     "output_type": "execute_result"
    }
   ],
   "source": [
    "recall_lvls = pd.DataFrame(columns=['recall@5', 'similar_items', 'als', ' own']).set_index('recall@5')\n",
    "\n",
    "recall_lvls.loc['level 1'] = evaluete_rec(data=result_lvl1, true='actual', metric='recall@k', k=k)\n",
    "recall_lvls"
   ]
  },
  {
   "cell_type": "markdown",
   "metadata": {},
   "source": [
    "## Модель 2го уровня"
   ]
  },
  {
   "cell_type": "code",
   "execution_count": 11,
   "metadata": {},
   "outputs": [
    {
     "data": {
      "text/html": [
       "<div>\n",
       "<style scoped>\n",
       "    .dataframe tbody tr th:only-of-type {\n",
       "        vertical-align: middle;\n",
       "    }\n",
       "\n",
       "    .dataframe tbody tr th {\n",
       "        vertical-align: top;\n",
       "    }\n",
       "\n",
       "    .dataframe thead th {\n",
       "        text-align: right;\n",
       "    }\n",
       "</style>\n",
       "<table border=\"1\" class=\"dataframe\">\n",
       "  <thead>\n",
       "    <tr style=\"text-align: right;\">\n",
       "      <th></th>\n",
       "      <th>user_id</th>\n",
       "      <th>basket_id</th>\n",
       "      <th>day</th>\n",
       "      <th>item_id</th>\n",
       "      <th>quantity</th>\n",
       "      <th>sales_value</th>\n",
       "      <th>store_id</th>\n",
       "      <th>retail_disc</th>\n",
       "      <th>trans_time</th>\n",
       "      <th>week_no</th>\n",
       "      <th>coupon_disc</th>\n",
       "      <th>coupon_match_disc</th>\n",
       "      <th>price</th>\n",
       "    </tr>\n",
       "  </thead>\n",
       "  <tbody>\n",
       "    <tr>\n",
       "      <td>2104867</td>\n",
       "      <td>2070</td>\n",
       "      <td>40618492260</td>\n",
       "      <td>594</td>\n",
       "      <td>999999</td>\n",
       "      <td>1</td>\n",
       "      <td>1.00</td>\n",
       "      <td>311</td>\n",
       "      <td>-0.29</td>\n",
       "      <td>40</td>\n",
       "      <td>86</td>\n",
       "      <td>0.0</td>\n",
       "      <td>0.0</td>\n",
       "      <td>1.00</td>\n",
       "    </tr>\n",
       "    <tr>\n",
       "      <td>2107468</td>\n",
       "      <td>2021</td>\n",
       "      <td>40618753059</td>\n",
       "      <td>594</td>\n",
       "      <td>840361</td>\n",
       "      <td>1</td>\n",
       "      <td>0.99</td>\n",
       "      <td>443</td>\n",
       "      <td>0.00</td>\n",
       "      <td>101</td>\n",
       "      <td>86</td>\n",
       "      <td>0.0</td>\n",
       "      <td>0.0</td>\n",
       "      <td>0.99</td>\n",
       "    </tr>\n",
       "    <tr>\n",
       "      <td>2107469</td>\n",
       "      <td>2021</td>\n",
       "      <td>40618753059</td>\n",
       "      <td>594</td>\n",
       "      <td>856060</td>\n",
       "      <td>1</td>\n",
       "      <td>1.77</td>\n",
       "      <td>443</td>\n",
       "      <td>-0.09</td>\n",
       "      <td>101</td>\n",
       "      <td>86</td>\n",
       "      <td>0.0</td>\n",
       "      <td>0.0</td>\n",
       "      <td>1.77</td>\n",
       "    </tr>\n",
       "    <tr>\n",
       "      <td>2107470</td>\n",
       "      <td>2021</td>\n",
       "      <td>40618753059</td>\n",
       "      <td>594</td>\n",
       "      <td>869344</td>\n",
       "      <td>1</td>\n",
       "      <td>1.67</td>\n",
       "      <td>443</td>\n",
       "      <td>-0.22</td>\n",
       "      <td>101</td>\n",
       "      <td>86</td>\n",
       "      <td>0.0</td>\n",
       "      <td>0.0</td>\n",
       "      <td>1.67</td>\n",
       "    </tr>\n",
       "    <tr>\n",
       "      <td>2107471</td>\n",
       "      <td>2021</td>\n",
       "      <td>40618753059</td>\n",
       "      <td>594</td>\n",
       "      <td>896862</td>\n",
       "      <td>2</td>\n",
       "      <td>5.00</td>\n",
       "      <td>443</td>\n",
       "      <td>-2.98</td>\n",
       "      <td>101</td>\n",
       "      <td>86</td>\n",
       "      <td>0.0</td>\n",
       "      <td>0.0</td>\n",
       "      <td>2.50</td>\n",
       "    </tr>\n",
       "  </tbody>\n",
       "</table>\n",
       "</div>"
      ],
      "text/plain": [
       "         user_id    basket_id  day  item_id  quantity  sales_value  store_id  \\\n",
       "2104867     2070  40618492260  594   999999         1         1.00       311   \n",
       "2107468     2021  40618753059  594   840361         1         0.99       443   \n",
       "2107469     2021  40618753059  594   856060         1         1.77       443   \n",
       "2107470     2021  40618753059  594   869344         1         1.67       443   \n",
       "2107471     2021  40618753059  594   896862         2         5.00       443   \n",
       "\n",
       "         retail_disc  trans_time  week_no  coupon_disc  coupon_match_disc  \\\n",
       "2104867        -0.29          40       86          0.0                0.0   \n",
       "2107468         0.00         101       86          0.0                0.0   \n",
       "2107469        -0.09         101       86          0.0                0.0   \n",
       "2107470        -0.22         101       86          0.0                0.0   \n",
       "2107471        -2.98         101       86          0.0                0.0   \n",
       "\n",
       "         price  \n",
       "2104867   1.00  \n",
       "2107468   0.99  \n",
       "2107469   1.77  \n",
       "2107470   1.67  \n",
       "2107471   2.50  "
      ]
     },
     "execution_count": 11,
     "metadata": {},
     "output_type": "execute_result"
    }
   ],
   "source": [
    "# предфильтрация трейна 2го уровня\n",
    "train_lvl2 = prefilter_items(data=train_lvl2, item_features=item_features)\n",
    "train_lvl2.head()"
   ]
  },
  {
   "cell_type": "code",
   "execution_count": 12,
   "metadata": {},
   "outputs": [
    {
     "data": {
      "application/vnd.jupyter.widget-view+json": {
       "model_id": "2ca2008cea6649fa8065249ad4d7b93d",
       "version_major": 2,
       "version_minor": 0
      },
      "text/plain": [
       "HBox(children=(IntProgress(value=0, max=15), HTML(value='')))"
      ]
     },
     "metadata": {},
     "output_type": "display_data"
    },
    {
     "name": "stdout",
     "output_type": "stream",
     "text": [
      "\n"
     ]
    },
    {
     "data": {
      "application/vnd.jupyter.widget-view+json": {
       "model_id": "f1b9b7adc86d44069e77c7940994b839",
       "version_major": 2,
       "version_minor": 0
      },
      "text/plain": [
       "HBox(children=(IntProgress(value=0, max=5001), HTML(value='')))"
      ]
     },
     "metadata": {},
     "output_type": "display_data"
    },
    {
     "name": "stdout",
     "output_type": "stream",
     "text": [
      "\n"
     ]
    }
   ],
   "source": [
    "# обучение модели 2го уровня\n",
    "recommender_lvl2 = MainRecommender(train_lvl2)"
   ]
  },
  {
   "cell_type": "markdown",
   "metadata": {},
   "source": [
    "### Прогнозирование рекоммендаций моделью 2го уровня"
   ]
  },
  {
   "cell_type": "code",
   "execution_count": 13,
   "metadata": {},
   "outputs": [
    {
     "data": {
      "text/html": [
       "<div>\n",
       "<style scoped>\n",
       "    .dataframe tbody tr th:only-of-type {\n",
       "        vertical-align: middle;\n",
       "    }\n",
       "\n",
       "    .dataframe tbody tr th {\n",
       "        vertical-align: top;\n",
       "    }\n",
       "\n",
       "    .dataframe thead th {\n",
       "        text-align: right;\n",
       "    }\n",
       "</style>\n",
       "<table border=\"1\" class=\"dataframe\">\n",
       "  <thead>\n",
       "    <tr style=\"text-align: right;\">\n",
       "      <th></th>\n",
       "      <th>user_id</th>\n",
       "      <th>actual</th>\n",
       "    </tr>\n",
       "  </thead>\n",
       "  <tbody>\n",
       "    <tr>\n",
       "      <td>0</td>\n",
       "      <td>1</td>\n",
       "      <td>[880007, 883616, 931136, 938004, 940947, 94726...</td>\n",
       "    </tr>\n",
       "    <tr>\n",
       "      <td>1</td>\n",
       "      <td>2</td>\n",
       "      <td>[820165, 820291, 826784, 826835, 829009, 85784...</td>\n",
       "    </tr>\n",
       "    <tr>\n",
       "      <td>2</td>\n",
       "      <td>3</td>\n",
       "      <td>[827683, 908531, 989069, 1071377, 1080155, 109...</td>\n",
       "    </tr>\n",
       "    <tr>\n",
       "      <td>3</td>\n",
       "      <td>6</td>\n",
       "      <td>[956902, 960791, 1037863, 1119051, 1137688, 84...</td>\n",
       "    </tr>\n",
       "    <tr>\n",
       "      <td>4</td>\n",
       "      <td>7</td>\n",
       "      <td>[847270, 855557, 859987, 863407, 895454, 90663...</td>\n",
       "    </tr>\n",
       "  </tbody>\n",
       "</table>\n",
       "</div>"
      ],
      "text/plain": [
       "   user_id                                             actual\n",
       "0        1  [880007, 883616, 931136, 938004, 940947, 94726...\n",
       "1        2  [820165, 820291, 826784, 826835, 829009, 85784...\n",
       "2        3  [827683, 908531, 989069, 1071377, 1080155, 109...\n",
       "3        6  [956902, 960791, 1037863, 1119051, 1137688, 84...\n",
       "4        7  [847270, 855557, 859987, 863407, 895454, 90663..."
      ]
     },
     "execution_count": 13,
     "metadata": {},
     "output_type": "execute_result"
    }
   ],
   "source": [
    "# создание фрейма результатов 2го уровня\n",
    "result_lvl2 = test_lvl2.groupby('user_id')['item_id'].unique().reset_index()\n",
    "result_lvl2.columns = ['user_id', 'actual']\n",
    "\n",
    "# удаление тех пользователей, на которых модель не обучалась\n",
    "result_lvl2 = result_lvl2[result_lvl2['user_id'].isin(train_lvl2['user_id'])]\n",
    "result_lvl2.head()"
   ]
  },
  {
   "cell_type": "code",
   "execution_count": 14,
   "metadata": {},
   "outputs": [
    {
     "data": {
      "text/html": [
       "<div>\n",
       "<style scoped>\n",
       "    .dataframe tbody tr th:only-of-type {\n",
       "        vertical-align: middle;\n",
       "    }\n",
       "\n",
       "    .dataframe tbody tr th {\n",
       "        vertical-align: top;\n",
       "    }\n",
       "\n",
       "    .dataframe thead th {\n",
       "        text-align: right;\n",
       "    }\n",
       "</style>\n",
       "<table border=\"1\" class=\"dataframe\">\n",
       "  <thead>\n",
       "    <tr style=\"text-align: right;\">\n",
       "      <th></th>\n",
       "      <th>user_id</th>\n",
       "      <th>actual</th>\n",
       "      <th>similar_items</th>\n",
       "      <th>als</th>\n",
       "      <th>own</th>\n",
       "    </tr>\n",
       "  </thead>\n",
       "  <tbody>\n",
       "    <tr>\n",
       "      <td>0</td>\n",
       "      <td>1</td>\n",
       "      <td>[880007, 883616, 931136, 938004, 940947, 94726...</td>\n",
       "      <td>[1041796, 1005576, 961554, 951590, 878285]</td>\n",
       "      <td>[1082185, 856942, 878285, 8293439, 1105488]</td>\n",
       "      <td>[8293439, 1074612, 856942, 5577022, 1050310]</td>\n",
       "    </tr>\n",
       "    <tr>\n",
       "      <td>1</td>\n",
       "      <td>2</td>\n",
       "      <td>[820165, 820291, 826784, 826835, 829009, 85784...</td>\n",
       "      <td>[1044805, 860776, 8065410, 12301073, 937276]</td>\n",
       "      <td>[12301109, 981760, 1139142, 889774, 1068708]</td>\n",
       "      <td>[1128698, 1138132, 909396, 6633224, 1139142]</td>\n",
       "    </tr>\n",
       "    <tr>\n",
       "      <td>2</td>\n",
       "      <td>3</td>\n",
       "      <td>[827683, 908531, 989069, 1071377, 1080155, 109...</td>\n",
       "      <td>[9526185, 987480, 7167249, 1083328, 925514]</td>\n",
       "      <td>[7167218, 9526886, 6463658, 7167249, 9526563]</td>\n",
       "      <td>[909638, 984088, 872021, 1083328, 878302]</td>\n",
       "    </tr>\n",
       "    <tr>\n",
       "      <td>3</td>\n",
       "      <td>6</td>\n",
       "      <td>[956902, 960791, 1037863, 1119051, 1137688, 84...</td>\n",
       "      <td>[951412, 878996, 845208, 923746, 1041796]</td>\n",
       "      <td>[1037863, 1051516, 1015296, 1022254, 962568]</td>\n",
       "      <td>[1015296, 946489, 1017061, 1126203, 1010259]</td>\n",
       "    </tr>\n",
       "    <tr>\n",
       "      <td>4</td>\n",
       "      <td>7</td>\n",
       "      <td>[847270, 855557, 859987, 863407, 895454, 90663...</td>\n",
       "      <td>[961554, 1031833, 16809471, 938700, 932182]</td>\n",
       "      <td>[13987153, 1082185, 1068258, 5591154, 1056973]</td>\n",
       "      <td>[966058, 1001525, 1018769, 971660, 840386]</td>\n",
       "    </tr>\n",
       "  </tbody>\n",
       "</table>\n",
       "</div>"
      ],
      "text/plain": [
       "   user_id                                             actual  \\\n",
       "0        1  [880007, 883616, 931136, 938004, 940947, 94726...   \n",
       "1        2  [820165, 820291, 826784, 826835, 829009, 85784...   \n",
       "2        3  [827683, 908531, 989069, 1071377, 1080155, 109...   \n",
       "3        6  [956902, 960791, 1037863, 1119051, 1137688, 84...   \n",
       "4        7  [847270, 855557, 859987, 863407, 895454, 90663...   \n",
       "\n",
       "                                  similar_items  \\\n",
       "0    [1041796, 1005576, 961554, 951590, 878285]   \n",
       "1  [1044805, 860776, 8065410, 12301073, 937276]   \n",
       "2   [9526185, 987480, 7167249, 1083328, 925514]   \n",
       "3     [951412, 878996, 845208, 923746, 1041796]   \n",
       "4   [961554, 1031833, 16809471, 938700, 932182]   \n",
       "\n",
       "                                              als  \\\n",
       "0     [1082185, 856942, 878285, 8293439, 1105488]   \n",
       "1    [12301109, 981760, 1139142, 889774, 1068708]   \n",
       "2   [7167218, 9526886, 6463658, 7167249, 9526563]   \n",
       "3    [1037863, 1051516, 1015296, 1022254, 962568]   \n",
       "4  [13987153, 1082185, 1068258, 5591154, 1056973]   \n",
       "\n",
       "                                            own  \n",
       "0  [8293439, 1074612, 856942, 5577022, 1050310]  \n",
       "1  [1128698, 1138132, 909396, 6633224, 1139142]  \n",
       "2     [909638, 984088, 872021, 1083328, 878302]  \n",
       "3  [1015296, 946489, 1017061, 1126203, 1010259]  \n",
       "4    [966058, 1001525, 1018769, 971660, 840386]  "
      ]
     },
     "execution_count": 14,
     "metadata": {},
     "output_type": "execute_result"
    }
   ],
   "source": [
    "# прогнозирование результатов и добавление ление в фрейм\n",
    "result_lvl2['similar_items'] = result_lvl2['user_id'].apply(\n",
    "    lambda x: recommender_lvl2.get_similar_items_recommendation(user=x, N=k)\n",
    ")# apply\n",
    "\n",
    "result_lvl2['als'] = result_lvl2['user_id'].apply(\n",
    "    lambda x: recommender_lvl2.get_als_recommendations(user=x, N=k)\n",
    ")# apply\n",
    "\n",
    "result_lvl2['own'] = result_lvl2['user_id'].apply(\n",
    "    lambda x: recommender_lvl2.get_own_recommendations(user=x, N=k)\n",
    ")# apply\n",
    "\n",
    "result_lvl2.head()"
   ]
  },
  {
   "cell_type": "markdown",
   "metadata": {},
   "source": [
    "### Оценка рекоммендаций 2го уровня"
   ]
  },
  {
   "cell_type": "code",
   "execution_count": 15,
   "metadata": {},
   "outputs": [
    {
     "data": {
      "text/html": [
       "<div>\n",
       "<style scoped>\n",
       "    .dataframe tbody tr th:only-of-type {\n",
       "        vertical-align: middle;\n",
       "    }\n",
       "\n",
       "    .dataframe tbody tr th {\n",
       "        vertical-align: top;\n",
       "    }\n",
       "\n",
       "    .dataframe thead th {\n",
       "        text-align: right;\n",
       "    }\n",
       "</style>\n",
       "<table border=\"1\" class=\"dataframe\">\n",
       "  <thead>\n",
       "    <tr style=\"text-align: right;\">\n",
       "      <th></th>\n",
       "      <th>similar_items</th>\n",
       "      <th>als</th>\n",
       "      <th>own</th>\n",
       "    </tr>\n",
       "    <tr>\n",
       "      <th>recall@5</th>\n",
       "      <th></th>\n",
       "      <th></th>\n",
       "      <th></th>\n",
       "    </tr>\n",
       "  </thead>\n",
       "  <tbody>\n",
       "    <tr>\n",
       "      <td>level 1</td>\n",
       "      <td>0.008587</td>\n",
       "      <td>0.013422</td>\n",
       "      <td>0.022427</td>\n",
       "    </tr>\n",
       "    <tr>\n",
       "      <td>level 2</td>\n",
       "      <td>0.011560</td>\n",
       "      <td>0.024069</td>\n",
       "      <td>0.032365</td>\n",
       "    </tr>\n",
       "  </tbody>\n",
       "</table>\n",
       "</div>"
      ],
      "text/plain": [
       "          similar_items       als       own\n",
       "recall@5                                   \n",
       "level 1        0.008587  0.013422  0.022427\n",
       "level 2        0.011560  0.024069  0.032365"
      ]
     },
     "execution_count": 15,
     "metadata": {},
     "output_type": "execute_result"
    }
   ],
   "source": [
    "recall_lvls.loc['level 2'] = evaluete_rec(data=result_lvl2, true='actual', metric='recall@k', k=k)\n",
    "recall_lvls"
   ]
  },
  {
   "cell_type": "code",
   "execution_count": null,
   "metadata": {},
   "outputs": [],
   "source": []
  }
 ],
 "metadata": {
  "kernelspec": {
   "display_name": "Python 3",
   "language": "python",
   "name": "python3"
  },
  "language_info": {
   "codemirror_mode": {
    "name": "ipython",
    "version": 3
   },
   "file_extension": ".py",
   "mimetype": "text/x-python",
   "name": "python",
   "nbconvert_exporter": "python",
   "pygments_lexer": "ipython3",
   "version": "3.7.4"
  }
 },
 "nbformat": 4,
 "nbformat_minor": 2
}
