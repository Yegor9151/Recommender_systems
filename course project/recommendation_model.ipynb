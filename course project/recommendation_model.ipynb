{
 "cells": [
  {
   "cell_type": "markdown",
   "metadata": {},
   "source": [
    "# Импорт библеотек"
   ]
  },
  {
   "cell_type": "code",
   "execution_count": 1,
   "metadata": {},
   "outputs": [],
   "source": [
    "# проведение пути до собственных модулей\n",
    "import sys\n",
    "sys.path.append('../')"
   ]
  },
  {
   "cell_type": "code",
   "execution_count": 2,
   "metadata": {},
   "outputs": [],
   "source": [
    "# основные модули\n",
    "import numpy as np\n",
    "import pandas as pd\n",
    "import matplotlib.pyplot as plt\n",
    "%matplotlib inline\n",
    "\n",
    "# собственные модулей\n",
    "from src.utils import prefilter_items\n",
    "from src.metrics import precision_at_k, recall_at_k, evaluete_rec\n",
    "from src.myf import reduction_memory\n",
    "# модель для 1го уровня\n",
    "from src.recommenders import MainRecommender\n",
    "\n",
    "# модели для 2го уровня\n",
    "from lightgbm import LGBMClassifier\n",
    "\n",
    "# отключение предупреждений\n",
    "import warnings\n",
    "warnings.filterwarnings('ignore')"
   ]
  },
  {
   "cell_type": "markdown",
   "metadata": {},
   "source": [
    "# Загрузка данных"
   ]
  },
  {
   "cell_type": "code",
   "execution_count": 3,
   "metadata": {},
   "outputs": [
    {
     "name": "stdout",
     "output_type": "stream",
     "text": [
      "before:\t\t230.09 MB\n",
      "after:\t\t141.41 MB\n",
      "reduсed:\t88.68 MB\n",
      "before:\t\t8.52 MB\n",
      "after:\t\t5.24 MB\n",
      "reduсed:\t3.28 MB\n",
      "before:\t\t5.17 MB\n",
      "after:\t\t4.25 MB\n",
      "reduсed:\t0.92 MB\n",
      "before:\t\t0.05 MB\n",
      "after:\t\t0.05 MB\n",
      "reduсed:\t0.0 MB\n"
     ]
    }
   ],
   "source": [
    "# создание датафреймов\n",
    "train = pd.read_csv('../data/retail_train.csv')\n",
    "test = pd.read_csv('../data/retail_test.csv')\n",
    "\n",
    "# зегрузка фичей\n",
    "item_features = pd.read_csv('../data/product.csv')\n",
    "user_features = pd.read_csv('../data/hh_demographic.csv')\n",
    "\n",
    "# снижение веса датафлеймов\n",
    "train, test, item_features, user_features = map(reduction_memory, (train, test, item_features, user_features))"
   ]
  },
  {
   "cell_type": "markdown",
   "metadata": {},
   "source": [
    "# Редактирование датафреймов"
   ]
  },
  {
   "cell_type": "code",
   "execution_count": 4,
   "metadata": {},
   "outputs": [],
   "source": [
    "# Снижение регистров столбцов\n",
    "item_features.columns = [col.lower() for col in item_features.columns]\n",
    "user_features.columns = [col.lower() for col in user_features.columns]\n",
    "\n",
    "# Переименование столбцов\n",
    "item_features.rename(columns={'product_id': 'item_id'}, inplace=True)\n",
    "user_features.rename(columns={'household_key': 'user_id'}, inplace=True)"
   ]
  },
  {
   "cell_type": "markdown",
   "metadata": {},
   "source": [
    "## добавление фичей"
   ]
  },
  {
   "cell_type": "code",
   "execution_count": 5,
   "metadata": {
    "scrolled": false
   },
   "outputs": [],
   "source": [
    "# объединение датафреймов\n",
    "train_ = train.merge(item_features, on='item_id', how='left')\n",
    "train_ = train.merge(user_features, on='user_id', how='left')\n",
    "\n",
    "test_ = test.merge(item_features, on='item_id', how='left')\n",
    "test_ = test.merge(user_features, on='user_id', how='left')"
   ]
  },
  {
   "cell_type": "code",
   "execution_count": 6,
   "metadata": {},
   "outputs": [],
   "source": [
    "# префильтрация\n",
    "train_, test_ = map(prefilter_items, (train_, test_))"
   ]
  },
  {
   "cell_type": "markdown",
   "metadata": {},
   "source": [
    "# Обучение одноуровневой модели"
   ]
  },
  {
   "cell_type": "code",
   "execution_count": 7,
   "metadata": {},
   "outputs": [
    {
     "name": "stderr",
     "output_type": "stream",
     "text": [
      "WARNING:root:Intel MKL BLAS detected. Its highly recommend to set the environment variable 'export MKL_NUM_THREADS=1' to disable its internal multithreading\n"
     ]
    },
    {
     "data": {
      "application/vnd.jupyter.widget-view+json": {
       "model_id": "62ff142c1e8245bb927ec81155373379",
       "version_major": 2,
       "version_minor": 0
      },
      "text/plain": [
       "HBox(children=(IntProgress(value=0, max=15), HTML(value='')))"
      ]
     },
     "metadata": {},
     "output_type": "display_data"
    },
    {
     "name": "stdout",
     "output_type": "stream",
     "text": [
      "\n"
     ]
    },
    {
     "data": {
      "application/vnd.jupyter.widget-view+json": {
       "model_id": "281e9cf508534d83a6467e1f698a9bbd",
       "version_major": 2,
       "version_minor": 0
      },
      "text/plain": [
       "HBox(children=(IntProgress(value=0, max=5001), HTML(value='')))"
      ]
     },
     "metadata": {},
     "output_type": "display_data"
    },
    {
     "name": "stdout",
     "output_type": "stream",
     "text": [
      "\n"
     ]
    }
   ],
   "source": [
    "# обучение одноуровневой модели\n",
    "recommender_ = MainRecommender(train_)"
   ]
  },
  {
   "cell_type": "code",
   "execution_count": 8,
   "metadata": {},
   "outputs": [
    {
     "data": {
      "text/html": [
       "<div>\n",
       "<style scoped>\n",
       "    .dataframe tbody tr th:only-of-type {\n",
       "        vertical-align: middle;\n",
       "    }\n",
       "\n",
       "    .dataframe tbody tr th {\n",
       "        vertical-align: top;\n",
       "    }\n",
       "\n",
       "    .dataframe thead th {\n",
       "        text-align: right;\n",
       "    }\n",
       "</style>\n",
       "<table border=\"1\" class=\"dataframe\">\n",
       "  <thead>\n",
       "    <tr style=\"text-align: right;\">\n",
       "      <th></th>\n",
       "      <th>user_id</th>\n",
       "      <th>actual</th>\n",
       "    </tr>\n",
       "  </thead>\n",
       "  <tbody>\n",
       "    <tr>\n",
       "      <td>0</td>\n",
       "      <td>1</td>\n",
       "      <td>[999999, 883616, 931136, 940947, 958046, 96155...</td>\n",
       "    </tr>\n",
       "    <tr>\n",
       "      <td>1</td>\n",
       "      <td>2</td>\n",
       "      <td>[820165, 820291, 826784, 999999, 857849, 86621...</td>\n",
       "    </tr>\n",
       "    <tr>\n",
       "      <td>2</td>\n",
       "      <td>3</td>\n",
       "      <td>[827683, 908531, 989069, 1071377, 999999, 1096...</td>\n",
       "    </tr>\n",
       "    <tr>\n",
       "      <td>3</td>\n",
       "      <td>6</td>\n",
       "      <td>[956902, 960791, 1037863, 1119051, 1137688, 84...</td>\n",
       "    </tr>\n",
       "    <tr>\n",
       "      <td>4</td>\n",
       "      <td>7</td>\n",
       "      <td>[847270, 855557, 999999, 938700, 954673, 95701...</td>\n",
       "    </tr>\n",
       "  </tbody>\n",
       "</table>\n",
       "</div>"
      ],
      "text/plain": [
       "   user_id                                             actual\n",
       "0        1  [999999, 883616, 931136, 940947, 958046, 96155...\n",
       "1        2  [820165, 820291, 826784, 999999, 857849, 86621...\n",
       "2        3  [827683, 908531, 989069, 1071377, 999999, 1096...\n",
       "3        6  [956902, 960791, 1037863, 1119051, 1137688, 84...\n",
       "4        7  [847270, 855557, 999999, 938700, 954673, 95701..."
      ]
     },
     "execution_count": 8,
     "metadata": {},
     "output_type": "execute_result"
    }
   ],
   "source": [
    "# создание фрейма результатов одноуровневой модели\n",
    "result_ = test_.groupby('user_id')['item_id'].unique().reset_index()\n",
    "result_.columns = ['user_id', 'actual']\n",
    "\n",
    "# удаление тех пользователей, на которых модель не обучалась\n",
    "result_ = result_[result_['user_id'].isin(train_['user_id'])]\n",
    "result_.head()"
   ]
  },
  {
   "cell_type": "markdown",
   "metadata": {},
   "source": [
    "## подбор числа кондидатов"
   ]
  },
  {
   "cell_type": "code",
   "execution_count": 9,
   "metadata": {},
   "outputs": [
    {
     "data": {
      "text/html": [
       "<div>\n",
       "<style scoped>\n",
       "    .dataframe tbody tr th:only-of-type {\n",
       "        vertical-align: middle;\n",
       "    }\n",
       "\n",
       "    .dataframe tbody tr th {\n",
       "        vertical-align: top;\n",
       "    }\n",
       "\n",
       "    .dataframe thead th {\n",
       "        text-align: right;\n",
       "    }\n",
       "</style>\n",
       "<table border=\"1\" class=\"dataframe\">\n",
       "  <thead>\n",
       "    <tr style=\"text-align: right;\">\n",
       "      <th></th>\n",
       "      <th>similar_items</th>\n",
       "      <th>als</th>\n",
       "      <th>own</th>\n",
       "    </tr>\n",
       "    <tr>\n",
       "      <th>recall@k</th>\n",
       "      <th></th>\n",
       "      <th></th>\n",
       "      <th></th>\n",
       "    </tr>\n",
       "  </thead>\n",
       "  <tbody>\n",
       "    <tr>\n",
       "      <td>50</td>\n",
       "      <td>0.151166</td>\n",
       "      <td>0.114634</td>\n",
       "      <td>0.149338</td>\n",
       "    </tr>\n",
       "    <tr>\n",
       "      <td>100</td>\n",
       "      <td>0.205111</td>\n",
       "      <td>0.171245</td>\n",
       "      <td>0.216577</td>\n",
       "    </tr>\n",
       "    <tr>\n",
       "      <td>200</td>\n",
       "      <td>0.278041</td>\n",
       "      <td>0.253827</td>\n",
       "      <td>0.318158</td>\n",
       "    </tr>\n",
       "    <tr>\n",
       "      <td>400</td>\n",
       "      <td>0.384909</td>\n",
       "      <td>0.354231</td>\n",
       "      <td>0.449197</td>\n",
       "    </tr>\n",
       "  </tbody>\n",
       "</table>\n",
       "</div>"
      ],
      "text/plain": [
       "          similar_items       als       own\n",
       "recall@k                                   \n",
       "50             0.151166  0.114634  0.149338\n",
       "100            0.205111  0.171245  0.216577\n",
       "200            0.278041  0.253827  0.318158\n",
       "400            0.384909  0.354231  0.449197"
      ]
     },
     "execution_count": 9,
     "metadata": {},
     "output_type": "execute_result"
    }
   ],
   "source": [
    "# подбор числа кандидатов\n",
    "N_tuple = 50, 100, 200, 400\n",
    "metric = 'recall@k'\n",
    "\n",
    "# фрейм результатов прогноза\n",
    "recall_frame = pd.DataFrame(\n",
    "    columns=[metric, 'similar_items', 'als', 'own']\n",
    ").set_index(metric)\n",
    "\n",
    "# прогнозирование результатов и добавление во фрейм\n",
    "for N in N_tuple:\n",
    "    result_['similar_items'] = result_['user_id'].apply(\n",
    "        lambda x: recommender_.get_similar_items_recommendation(user=x, N=N)\n",
    "    )# apply\n",
    "\n",
    "    result_['als'] = result_['user_id'].apply(\n",
    "        lambda x: recommender_.get_als_recommendations(user=x, N=N)\n",
    "    )# apply\n",
    "\n",
    "    result_['own'] = result_['user_id'].apply(\n",
    "        lambda x: recommender_.get_own_recommendations(user=x, N=N)\n",
    "    )# apply\n",
    "    \n",
    "    recall_frame.loc[N] = evaluete_rec(data=result_, true='actual', metric=metric, k=N)\n",
    "\n",
    "recall_frame"
   ]
  },
  {
   "cell_type": "markdown",
   "metadata": {},
   "source": [
    "- 100 кондидатов на модели __own recommendation__ (основанной на Item Item Recommender) будет достаточно"
   ]
  },
  {
   "cell_type": "markdown",
   "metadata": {},
   "source": [
    "## прогнозирование результатов на трейне (precision@5)"
   ]
  },
  {
   "cell_type": "code",
   "execution_count": 10,
   "metadata": {},
   "outputs": [
    {
     "data": {
      "text/html": [
       "<div>\n",
       "<style scoped>\n",
       "    .dataframe tbody tr th:only-of-type {\n",
       "        vertical-align: middle;\n",
       "    }\n",
       "\n",
       "    .dataframe tbody tr th {\n",
       "        vertical-align: top;\n",
       "    }\n",
       "\n",
       "    .dataframe thead th {\n",
       "        text-align: right;\n",
       "    }\n",
       "</style>\n",
       "<table border=\"1\" class=\"dataframe\">\n",
       "  <thead>\n",
       "    <tr style=\"text-align: right;\">\n",
       "      <th></th>\n",
       "      <th>similar_items</th>\n",
       "      <th>als</th>\n",
       "      <th>own</th>\n",
       "    </tr>\n",
       "    <tr>\n",
       "      <th>precision@k</th>\n",
       "      <th></th>\n",
       "      <th></th>\n",
       "      <th></th>\n",
       "    </tr>\n",
       "  </thead>\n",
       "  <tbody>\n",
       "    <tr>\n",
       "      <td>5</td>\n",
       "      <td>0.179936</td>\n",
       "      <td>0.116136</td>\n",
       "      <td>0.185881</td>\n",
       "    </tr>\n",
       "  </tbody>\n",
       "</table>\n",
       "</div>"
      ],
      "text/plain": [
       "             similar_items       als       own\n",
       "precision@k                                   \n",
       "5                 0.179936  0.116136  0.185881"
      ]
     },
     "execution_count": 10,
     "metadata": {},
     "output_type": "execute_result"
    }
   ],
   "source": [
    "# подбор числа кандидатов\n",
    "N = 100\n",
    "k = 5\n",
    "metric = 'precision@k'\n",
    "\n",
    "precision_frame = pd.DataFrame(\n",
    "    columns=[metric, 'similar_items', 'als', 'own']\n",
    ").set_index(metric)\n",
    "\n",
    "# прогнозирование результатов и добавление ление во фрейм\n",
    "result_['similar_items'] = result_['user_id'].apply(\n",
    "    lambda x: recommender_.get_similar_items_recommendation(user=x, N=N)\n",
    ")# apply\n",
    "\n",
    "result_['als'] = result_['user_id'].apply(\n",
    "    lambda x: recommender_.get_als_recommendations(user=x, N=N)\n",
    ")# apply\n",
    "\n",
    "result_['own'] = result_['user_id'].apply(\n",
    "    lambda x: recommender_.get_own_recommendations(user=x, N=N)\n",
    ")# apply\n",
    "    \n",
    "precision_frame.loc[k] = evaluete_rec(data=result_, true='actual', metric=metric, k=k)\n",
    "\n",
    "precision_frame"
   ]
  },
  {
   "cell_type": "markdown",
   "metadata": {},
   "source": [
    "## Вывод:\n",
    "\n",
    "- Видно что лучший точность у __own recommender__ (Item Item Recommender) однако она все же < 0.27. \n",
    "- Попробуем двухуровневую модель с фильтрацией товаров на 1м ровне."
   ]
  },
  {
   "cell_type": "code",
   "execution_count": 11,
   "metadata": {},
   "outputs": [
    {
     "data": {
      "text/html": [
       "<div>\n",
       "<style scoped>\n",
       "    .dataframe tbody tr th:only-of-type {\n",
       "        vertical-align: middle;\n",
       "    }\n",
       "\n",
       "    .dataframe tbody tr th {\n",
       "        vertical-align: top;\n",
       "    }\n",
       "\n",
       "    .dataframe thead th {\n",
       "        text-align: right;\n",
       "    }\n",
       "</style>\n",
       "<table border=\"1\" class=\"dataframe\">\n",
       "  <thead>\n",
       "    <tr style=\"text-align: right;\">\n",
       "      <th></th>\n",
       "      <th>user_id</th>\n",
       "      <th>actual</th>\n",
       "      <th>similar_items</th>\n",
       "      <th>als</th>\n",
       "      <th>own</th>\n",
       "    </tr>\n",
       "  </thead>\n",
       "  <tbody>\n",
       "    <tr>\n",
       "      <td>0</td>\n",
       "      <td>1</td>\n",
       "      <td>[999999, 883616, 931136, 940947, 958046, 96155...</td>\n",
       "      <td>[9487534, 999999, 1082185, 5582712, 15926844, ...</td>\n",
       "      <td>[1004390, 885290, 960732, 999391, 819518, 1094...</td>\n",
       "      <td>[856942, 9297615, 5577022, 1074612, 8293439, 9...</td>\n",
       "    </tr>\n",
       "    <tr>\n",
       "      <td>1</td>\n",
       "      <td>2</td>\n",
       "      <td>[820165, 820291, 826784, 999999, 857849, 86621...</td>\n",
       "      <td>[1133018, 1137346, 1106523, 5569845, 985999, 8...</td>\n",
       "      <td>[1004906, 1106523, 5569230, 1033142, 1041259, ...</td>\n",
       "      <td>[1076580, 838136, 911974, 826784, 1007414, 108...</td>\n",
       "    </tr>\n",
       "    <tr>\n",
       "      <td>2</td>\n",
       "      <td>3</td>\n",
       "      <td>[827683, 908531, 989069, 1071377, 999999, 1096...</td>\n",
       "      <td>[1076875, 1092026, 960318, 1075979, 823704, 11...</td>\n",
       "      <td>[8090521, 5569230, 1110244, 951590, 941741, 96...</td>\n",
       "      <td>[998206, 921345, 1092937, 964594, 13842214, 86...</td>\n",
       "    </tr>\n",
       "    <tr>\n",
       "      <td>3</td>\n",
       "      <td>6</td>\n",
       "      <td>[956902, 960791, 1037863, 1119051, 1137688, 84...</td>\n",
       "      <td>[999999, 1041259, 904360, 845208, 948650, 1105...</td>\n",
       "      <td>[1082185, 857006, 863632, 999250, 965267, 8789...</td>\n",
       "      <td>[13003092, 1119051, 9911484, 5580166, 8203834,...</td>\n",
       "    </tr>\n",
       "    <tr>\n",
       "      <td>4</td>\n",
       "      <td>7</td>\n",
       "      <td>[847270, 855557, 999999, 938700, 954673, 95701...</td>\n",
       "      <td>[999999, 1038985, 1015247, 1094955, 967395, 11...</td>\n",
       "      <td>[1130111, 853643, 5981267, 1003188, 1031833, 9...</td>\n",
       "      <td>[845814, 949836, 9338009, 1075524, 840386, 694...</td>\n",
       "    </tr>\n",
       "  </tbody>\n",
       "</table>\n",
       "</div>"
      ],
      "text/plain": [
       "   user_id                                             actual  \\\n",
       "0        1  [999999, 883616, 931136, 940947, 958046, 96155...   \n",
       "1        2  [820165, 820291, 826784, 999999, 857849, 86621...   \n",
       "2        3  [827683, 908531, 989069, 1071377, 999999, 1096...   \n",
       "3        6  [956902, 960791, 1037863, 1119051, 1137688, 84...   \n",
       "4        7  [847270, 855557, 999999, 938700, 954673, 95701...   \n",
       "\n",
       "                                       similar_items  \\\n",
       "0  [9487534, 999999, 1082185, 5582712, 15926844, ...   \n",
       "1  [1133018, 1137346, 1106523, 5569845, 985999, 8...   \n",
       "2  [1076875, 1092026, 960318, 1075979, 823704, 11...   \n",
       "3  [999999, 1041259, 904360, 845208, 948650, 1105...   \n",
       "4  [999999, 1038985, 1015247, 1094955, 967395, 11...   \n",
       "\n",
       "                                                 als  \\\n",
       "0  [1004390, 885290, 960732, 999391, 819518, 1094...   \n",
       "1  [1004906, 1106523, 5569230, 1033142, 1041259, ...   \n",
       "2  [8090521, 5569230, 1110244, 951590, 941741, 96...   \n",
       "3  [1082185, 857006, 863632, 999250, 965267, 8789...   \n",
       "4  [1130111, 853643, 5981267, 1003188, 1031833, 9...   \n",
       "\n",
       "                                                 own  \n",
       "0  [856942, 9297615, 5577022, 1074612, 8293439, 9...  \n",
       "1  [1076580, 838136, 911974, 826784, 1007414, 108...  \n",
       "2  [998206, 921345, 1092937, 964594, 13842214, 86...  \n",
       "3  [13003092, 1119051, 9911484, 5580166, 8203834,...  \n",
       "4  [845814, 949836, 9338009, 1075524, 840386, 694...  "
      ]
     },
     "execution_count": 11,
     "metadata": {},
     "output_type": "execute_result"
    }
   ],
   "source": [
    "# результат прогноза 100 кондидатов\n",
    "result_.head()"
   ]
  },
  {
   "cell_type": "markdown",
   "metadata": {},
   "source": [
    "# Обучение двухуровневой модели\n",
    "\n",
    "## Обучение 1го уровня модели"
   ]
  },
  {
   "cell_type": "code",
   "execution_count": 12,
   "metadata": {},
   "outputs": [],
   "source": [
    "# разбиение на тестовые и трейновые фреймы 1го и 2го уровня\n",
    "weeks = 9\n",
    "\n",
    "# 1й уровень\n",
    "train_lvl1 = train_[train_['week_no'] < train_['week_no'].max() - weeks]\n",
    "test_lvl1 = train_[train_['week_no'] >= train_['week_no'].max() - weeks]\n",
    "\n",
    "# 2й уровень\n",
    "train_lvl2 = test_lvl1.copy()"
   ]
  },
  {
   "cell_type": "code",
   "execution_count": 13,
   "metadata": {},
   "outputs": [
    {
     "data": {
      "application/vnd.jupyter.widget-view+json": {
       "model_id": "d8cc43afcc9f4513a2ee1d6963a8d56b",
       "version_major": 2,
       "version_minor": 0
      },
      "text/plain": [
       "HBox(children=(IntProgress(value=0, max=15), HTML(value='')))"
      ]
     },
     "metadata": {},
     "output_type": "display_data"
    },
    {
     "name": "stdout",
     "output_type": "stream",
     "text": [
      "\n"
     ]
    },
    {
     "data": {
      "application/vnd.jupyter.widget-view+json": {
       "model_id": "8e097556ec844826941e5cf09117b13a",
       "version_major": 2,
       "version_minor": 0
      },
      "text/plain": [
       "HBox(children=(IntProgress(value=0, max=5000), HTML(value='')))"
      ]
     },
     "metadata": {},
     "output_type": "display_data"
    },
    {
     "name": "stdout",
     "output_type": "stream",
     "text": [
      "\n"
     ]
    }
   ],
   "source": [
    "# обучение 1го уровня модели\n",
    "recommender_lvl1 = MainRecommender(train_lvl1)"
   ]
  },
  {
   "cell_type": "code",
   "execution_count": 14,
   "metadata": {},
   "outputs": [
    {
     "data": {
      "text/html": [
       "<div>\n",
       "<style scoped>\n",
       "    .dataframe tbody tr th:only-of-type {\n",
       "        vertical-align: middle;\n",
       "    }\n",
       "\n",
       "    .dataframe tbody tr th {\n",
       "        vertical-align: top;\n",
       "    }\n",
       "\n",
       "    .dataframe thead th {\n",
       "        text-align: right;\n",
       "    }\n",
       "</style>\n",
       "<table border=\"1\" class=\"dataframe\">\n",
       "  <thead>\n",
       "    <tr style=\"text-align: right;\">\n",
       "      <th></th>\n",
       "      <th>user_id</th>\n",
       "      <th>actual</th>\n",
       "    </tr>\n",
       "  </thead>\n",
       "  <tbody>\n",
       "    <tr>\n",
       "      <td>0</td>\n",
       "      <td>1</td>\n",
       "      <td>[999999, 865456, 867607, 872137, 878285, 89088...</td>\n",
       "    </tr>\n",
       "    <tr>\n",
       "      <td>1</td>\n",
       "      <td>2</td>\n",
       "      <td>[999999, 838136, 839656, 861272, 866211, 87391...</td>\n",
       "    </tr>\n",
       "    <tr>\n",
       "      <td>2</td>\n",
       "      <td>3</td>\n",
       "      <td>[999999, 851057, 872021, 878302, 879948, 90963...</td>\n",
       "    </tr>\n",
       "    <tr>\n",
       "      <td>3</td>\n",
       "      <td>4</td>\n",
       "      <td>[883932, 970760, 1035676, 1055863, 999999, 677...</td>\n",
       "    </tr>\n",
       "    <tr>\n",
       "      <td>4</td>\n",
       "      <td>6</td>\n",
       "      <td>[1024306, 1102949, 6548453, 999999, 962568, 97...</td>\n",
       "    </tr>\n",
       "  </tbody>\n",
       "</table>\n",
       "</div>"
      ],
      "text/plain": [
       "   user_id                                             actual\n",
       "0        1  [999999, 865456, 867607, 872137, 878285, 89088...\n",
       "1        2  [999999, 838136, 839656, 861272, 866211, 87391...\n",
       "2        3  [999999, 851057, 872021, 878302, 879948, 90963...\n",
       "3        4  [883932, 970760, 1035676, 1055863, 999999, 677...\n",
       "4        6  [1024306, 1102949, 6548453, 999999, 962568, 97..."
      ]
     },
     "execution_count": 14,
     "metadata": {},
     "output_type": "execute_result"
    }
   ],
   "source": [
    "# создание фрейма результатов 1го уровня\n",
    "result_lvl1 = test_lvl1.groupby('user_id')['item_id'].unique().reset_index()\n",
    "result_lvl1.columns = ['user_id', 'actual']\n",
    "\n",
    "# удаление тех пользователей, на которых модель не обучалась\n",
    "result_lvl1 = result_lvl1[result_lvl1['user_id'].isin(train_lvl1['user_id'])]\n",
    "result_lvl1.head()"
   ]
  },
  {
   "cell_type": "code",
   "execution_count": 15,
   "metadata": {},
   "outputs": [
    {
     "data": {
      "text/html": [
       "<div>\n",
       "<style scoped>\n",
       "    .dataframe tbody tr th:only-of-type {\n",
       "        vertical-align: middle;\n",
       "    }\n",
       "\n",
       "    .dataframe tbody tr th {\n",
       "        vertical-align: top;\n",
       "    }\n",
       "\n",
       "    .dataframe thead th {\n",
       "        text-align: right;\n",
       "    }\n",
       "</style>\n",
       "<table border=\"1\" class=\"dataframe\">\n",
       "  <thead>\n",
       "    <tr style=\"text-align: right;\">\n",
       "      <th></th>\n",
       "      <th>similar_items</th>\n",
       "      <th>als</th>\n",
       "      <th>own</th>\n",
       "    </tr>\n",
       "    <tr>\n",
       "      <th>recall@k</th>\n",
       "      <th></th>\n",
       "      <th></th>\n",
       "      <th></th>\n",
       "    </tr>\n",
       "  </thead>\n",
       "  <tbody>\n",
       "    <tr>\n",
       "      <td>50</td>\n",
       "      <td>0.118218</td>\n",
       "      <td>0.110141</td>\n",
       "      <td>0.151644</td>\n",
       "    </tr>\n",
       "    <tr>\n",
       "      <td>100</td>\n",
       "      <td>0.172603</td>\n",
       "      <td>0.170682</td>\n",
       "      <td>0.228656</td>\n",
       "    </tr>\n",
       "    <tr>\n",
       "      <td>200</td>\n",
       "      <td>0.253976</td>\n",
       "      <td>0.257810</td>\n",
       "      <td>0.344366</td>\n",
       "    </tr>\n",
       "    <tr>\n",
       "      <td>400</td>\n",
       "      <td>0.368480</td>\n",
       "      <td>0.372433</td>\n",
       "      <td>0.480060</td>\n",
       "    </tr>\n",
       "  </tbody>\n",
       "</table>\n",
       "</div>"
      ],
      "text/plain": [
       "          similar_items       als       own\n",
       "recall@k                                   \n",
       "50             0.118218  0.110141  0.151644\n",
       "100            0.172603  0.170682  0.228656\n",
       "200            0.253976  0.257810  0.344366\n",
       "400            0.368480  0.372433  0.480060"
      ]
     },
     "execution_count": 15,
     "metadata": {},
     "output_type": "execute_result"
    }
   ],
   "source": [
    "# подбор числа кандидатов\n",
    "N_tuple = 50, 100, 200, 400\n",
    "metric = 'recall@k'\n",
    "\n",
    "# фрейм результатов прогноза\n",
    "recall_lvl1 = pd.DataFrame(columns=[metric, 'similar_items', 'als', 'own']).set_index(metric)\n",
    "\n",
    "for N in N_tuple:\n",
    "    result_lvl1['similar_items'] = result_lvl1['user_id'].apply(\n",
    "        lambda x: recommender_lvl1.get_similar_items_recommendation(user=x, N=N)\n",
    "    )# apply\n",
    "\n",
    "    result_lvl1['als'] = result_lvl1['user_id'].apply(\n",
    "        lambda x: recommender_lvl1.get_als_recommendations(user=x, N=N)\n",
    "    )# apply\n",
    "\n",
    "    result_lvl1['own'] = result_lvl1['user_id'].apply(\n",
    "        lambda x: recommender_lvl1.get_own_recommendations(user=x, N=N)\n",
    "    )# apply\n",
    "\n",
    "    recall_lvl1.loc[N] = evaluete_rec(data=result_lvl1, true='actual', metric=metric, k=N)\n",
    "    \n",
    "recall_lvl1"
   ]
  },
  {
   "cell_type": "markdown",
   "metadata": {},
   "source": [
    "- 100 кондидатов на модели __own recommendation__ (основанной на Item Item Recommender) будет достаточно"
   ]
  },
  {
   "cell_type": "code",
   "execution_count": 16,
   "metadata": {},
   "outputs": [
    {
     "data": {
      "text/html": [
       "<div>\n",
       "<style scoped>\n",
       "    .dataframe tbody tr th:only-of-type {\n",
       "        vertical-align: middle;\n",
       "    }\n",
       "\n",
       "    .dataframe tbody tr th {\n",
       "        vertical-align: top;\n",
       "    }\n",
       "\n",
       "    .dataframe thead th {\n",
       "        text-align: right;\n",
       "    }\n",
       "</style>\n",
       "<table border=\"1\" class=\"dataframe\">\n",
       "  <thead>\n",
       "    <tr style=\"text-align: right;\">\n",
       "      <th></th>\n",
       "      <th>similar_items</th>\n",
       "      <th>als</th>\n",
       "      <th>own</th>\n",
       "    </tr>\n",
       "    <tr>\n",
       "      <th>precision@k</th>\n",
       "      <th></th>\n",
       "      <th></th>\n",
       "      <th></th>\n",
       "    </tr>\n",
       "  </thead>\n",
       "  <tbody>\n",
       "    <tr>\n",
       "      <td>5</td>\n",
       "      <td>0.200263</td>\n",
       "      <td>0.196402</td>\n",
       "      <td>0.314173</td>\n",
       "    </tr>\n",
       "  </tbody>\n",
       "</table>\n",
       "</div>"
      ],
      "text/plain": [
       "             similar_items       als       own\n",
       "precision@k                                   \n",
       "5                 0.200263  0.196402  0.314173"
      ]
     },
     "execution_count": 16,
     "metadata": {},
     "output_type": "execute_result"
    }
   ],
   "source": [
    "# подбор числа кандидатов\n",
    "N = 100\n",
    "k = 5\n",
    "metric = 'precision@k'\n",
    "\n",
    "precision_lvl1 = pd.DataFrame(\n",
    "    columns=[metric, 'similar_items', 'als', 'own']\n",
    ").set_index(metric)\n",
    "\n",
    "# прогнозирование результатов и добавление во фрейм\n",
    "result_lvl1['similar_items'] = result_lvl1['user_id'].apply(\n",
    "    lambda x: recommender_lvl1.get_similar_items_recommendation(user=x, N=N)\n",
    ")# apply\n",
    "\n",
    "result_lvl1['als'] = result_lvl1['user_id'].apply(\n",
    "    lambda x: recommender_lvl1.get_als_recommendations(user=x, N=N)\n",
    ")# apply\n",
    "\n",
    "result_lvl1['own'] = result_lvl1['user_id'].apply(\n",
    "    lambda x: recommender_lvl1.get_own_recommendations(user=x, N=N)\n",
    ")# apply\n",
    "    \n",
    "precision_lvl1.loc[k] = evaluete_rec(data=result_lvl1, true='actual', metric=metric, k=k)\n",
    "\n",
    "precision_lvl1"
   ]
  },
  {
   "cell_type": "markdown",
   "metadata": {},
   "source": [
    "- Видно, что самое точное прогнозирование у __own recommender__ (Item Item Recommender) - __precision@5 = 0.31__ - его будем использовать для 2го уровня модели."
   ]
  },
  {
   "cell_type": "code",
   "execution_count": 17,
   "metadata": {},
   "outputs": [
    {
     "data": {
      "text/html": [
       "<div>\n",
       "<style scoped>\n",
       "    .dataframe tbody tr th:only-of-type {\n",
       "        vertical-align: middle;\n",
       "    }\n",
       "\n",
       "    .dataframe tbody tr th {\n",
       "        vertical-align: top;\n",
       "    }\n",
       "\n",
       "    .dataframe thead th {\n",
       "        text-align: right;\n",
       "    }\n",
       "</style>\n",
       "<table border=\"1\" class=\"dataframe\">\n",
       "  <thead>\n",
       "    <tr style=\"text-align: right;\">\n",
       "      <th></th>\n",
       "      <th>user_id</th>\n",
       "      <th>actual</th>\n",
       "      <th>similar_items</th>\n",
       "      <th>als</th>\n",
       "      <th>own</th>\n",
       "    </tr>\n",
       "  </thead>\n",
       "  <tbody>\n",
       "    <tr>\n",
       "      <td>0</td>\n",
       "      <td>1</td>\n",
       "      <td>[999999, 865456, 867607, 872137, 878285, 89088...</td>\n",
       "      <td>[949620, 999999, 1082185, 1098066, 7135183, 87...</td>\n",
       "      <td>[1094924, 1098692, 1130375, 1062572, 8090513, ...</td>\n",
       "      <td>[856942, 9297615, 5577022, 1074612, 9655212, 9...</td>\n",
       "    </tr>\n",
       "    <tr>\n",
       "      <td>1</td>\n",
       "      <td>2</td>\n",
       "      <td>[999999, 838136, 839656, 861272, 866211, 87391...</td>\n",
       "      <td>[1137346, 1133018, 1106523, 5569845, 1132771, ...</td>\n",
       "      <td>[5569230, 1106523, 1041259, 834484, 1004906, 9...</td>\n",
       "      <td>[1076580, 911974, 826784, 1007414, 1083296, 83...</td>\n",
       "    </tr>\n",
       "    <tr>\n",
       "      <td>2</td>\n",
       "      <td>3</td>\n",
       "      <td>[999999, 851057, 872021, 878302, 879948, 90963...</td>\n",
       "      <td>[1076875, 1092026, 960318, 1075979, 1133018, 8...</td>\n",
       "      <td>[1110244, 951590, 5569230, 826249, 8090521, 88...</td>\n",
       "      <td>[921345, 998206, 1092937, 964594, 864615, 8856...</td>\n",
       "    </tr>\n",
       "    <tr>\n",
       "      <td>3</td>\n",
       "      <td>4</td>\n",
       "      <td>[883932, 970760, 1035676, 1055863, 999999, 677...</td>\n",
       "      <td>[951590, 13945244, 10457233, 1084310, 1074754,...</td>\n",
       "      <td>[902172, 891423, 904105, 927291, 1119454, 9997...</td>\n",
       "      <td>[891423, 936470, 910109, 887003, 1121367, 9518...</td>\n",
       "    </tr>\n",
       "    <tr>\n",
       "      <td>4</td>\n",
       "      <td>6</td>\n",
       "      <td>[1024306, 1102949, 6548453, 999999, 962568, 97...</td>\n",
       "      <td>[999999, 904360, 825541, 845208, 948650, 55698...</td>\n",
       "      <td>[1082185, 965267, 878996, 930118, 1024306, 871...</td>\n",
       "      <td>[13003092, 1119051, 9911484, 1108094, 8203834,...</td>\n",
       "    </tr>\n",
       "  </tbody>\n",
       "</table>\n",
       "</div>"
      ],
      "text/plain": [
       "   user_id                                             actual  \\\n",
       "0        1  [999999, 865456, 867607, 872137, 878285, 89088...   \n",
       "1        2  [999999, 838136, 839656, 861272, 866211, 87391...   \n",
       "2        3  [999999, 851057, 872021, 878302, 879948, 90963...   \n",
       "3        4  [883932, 970760, 1035676, 1055863, 999999, 677...   \n",
       "4        6  [1024306, 1102949, 6548453, 999999, 962568, 97...   \n",
       "\n",
       "                                       similar_items  \\\n",
       "0  [949620, 999999, 1082185, 1098066, 7135183, 87...   \n",
       "1  [1137346, 1133018, 1106523, 5569845, 1132771, ...   \n",
       "2  [1076875, 1092026, 960318, 1075979, 1133018, 8...   \n",
       "3  [951590, 13945244, 10457233, 1084310, 1074754,...   \n",
       "4  [999999, 904360, 825541, 845208, 948650, 55698...   \n",
       "\n",
       "                                                 als  \\\n",
       "0  [1094924, 1098692, 1130375, 1062572, 8090513, ...   \n",
       "1  [5569230, 1106523, 1041259, 834484, 1004906, 9...   \n",
       "2  [1110244, 951590, 5569230, 826249, 8090521, 88...   \n",
       "3  [902172, 891423, 904105, 927291, 1119454, 9997...   \n",
       "4  [1082185, 965267, 878996, 930118, 1024306, 871...   \n",
       "\n",
       "                                                 own  \n",
       "0  [856942, 9297615, 5577022, 1074612, 9655212, 9...  \n",
       "1  [1076580, 911974, 826784, 1007414, 1083296, 83...  \n",
       "2  [921345, 998206, 1092937, 964594, 864615, 8856...  \n",
       "3  [891423, 936470, 910109, 887003, 1121367, 9518...  \n",
       "4  [13003092, 1119051, 9911484, 1108094, 8203834,...  "
      ]
     },
     "execution_count": 17,
     "metadata": {},
     "output_type": "execute_result"
    }
   ],
   "source": [
    "result_lvl1.head()"
   ]
  },
  {
   "cell_type": "markdown",
   "metadata": {},
   "source": [
    "## Обучение 2го уровня модели\n",
    "\n",
    "### Формирование фремов для обучения на train"
   ]
  },
  {
   "cell_type": "code",
   "execution_count": 18,
   "metadata": {},
   "outputs": [
    {
     "data": {
      "text/html": [
       "<div>\n",
       "<style scoped>\n",
       "    .dataframe tbody tr th:only-of-type {\n",
       "        vertical-align: middle;\n",
       "    }\n",
       "\n",
       "    .dataframe tbody tr th {\n",
       "        vertical-align: top;\n",
       "    }\n",
       "\n",
       "    .dataframe thead th {\n",
       "        text-align: right;\n",
       "    }\n",
       "</style>\n",
       "<table border=\"1\" class=\"dataframe\">\n",
       "  <thead>\n",
       "    <tr style=\"text-align: right;\">\n",
       "      <th></th>\n",
       "      <th>user_id</th>\n",
       "      <th>candidates</th>\n",
       "    </tr>\n",
       "  </thead>\n",
       "  <tbody>\n",
       "    <tr>\n",
       "      <td>0</td>\n",
       "      <td>2070</td>\n",
       "      <td>[834103, 878302, 1119399, 1085604, 13511722, 9...</td>\n",
       "    </tr>\n",
       "    <tr>\n",
       "      <td>1</td>\n",
       "      <td>2021</td>\n",
       "      <td>[1119454, 1019142, 871279, 835578, 863762, 101...</td>\n",
       "    </tr>\n",
       "    <tr>\n",
       "      <td>2</td>\n",
       "      <td>1753</td>\n",
       "      <td>[13842224, 1094371, 1089066, 862981, 901543, 1...</td>\n",
       "    </tr>\n",
       "    <tr>\n",
       "      <td>3</td>\n",
       "      <td>2120</td>\n",
       "      <td>[480014, 1082185, 6534178, 1029743, 995242, 11...</td>\n",
       "    </tr>\n",
       "    <tr>\n",
       "      <td>4</td>\n",
       "      <td>1346</td>\n",
       "      <td>[5574377, 480014, 903738, 5568758, 8090560, 91...</td>\n",
       "    </tr>\n",
       "  </tbody>\n",
       "</table>\n",
       "</div>"
      ],
      "text/plain": [
       "   user_id                                         candidates\n",
       "0     2070  [834103, 878302, 1119399, 1085604, 13511722, 9...\n",
       "1     2021  [1119454, 1019142, 871279, 835578, 863762, 101...\n",
       "2     1753  [13842224, 1094371, 1089066, 862981, 901543, 1...\n",
       "3     2120  [480014, 1082185, 6534178, 1029743, 995242, 11...\n",
       "4     1346  [5574377, 480014, 903738, 5568758, 8090560, 91..."
      ]
     },
     "execution_count": 18,
     "metadata": {},
     "output_type": "execute_result"
    }
   ],
   "source": [
    "# формирование фрейма с результатами прогнозирования 1го уровня для 2го уровня\n",
    "result_lvl2 = pd.DataFrame(train_lvl2['user_id'].unique())\n",
    "result_lvl2.columns = ['user_id']\n",
    "\n",
    "# отбор пользователей для горячего старта\n",
    "train_users = train_lvl1['user_id'].unique()\n",
    "result_lvl2 = result_lvl2[result_lvl2['user_id'].isin(train_users)]\n",
    "\n",
    "# Добавление по 100 items которые отбирает 1 уровень модели\n",
    "result_lvl2['candidates'] = result_lvl2['user_id'].apply(lambda x: recommender_lvl1.get_own_recommendations(x, N=100))\n",
    "\n",
    "result_lvl2.head()"
   ]
  },
  {
   "cell_type": "code",
   "execution_count": 19,
   "metadata": {},
   "outputs": [
    {
     "data": {
      "text/html": [
       "<div>\n",
       "<style scoped>\n",
       "    .dataframe tbody tr th:only-of-type {\n",
       "        vertical-align: middle;\n",
       "    }\n",
       "\n",
       "    .dataframe tbody tr th {\n",
       "        vertical-align: top;\n",
       "    }\n",
       "\n",
       "    .dataframe thead th {\n",
       "        text-align: right;\n",
       "    }\n",
       "</style>\n",
       "<table border=\"1\" class=\"dataframe\">\n",
       "  <thead>\n",
       "    <tr style=\"text-align: right;\">\n",
       "      <th></th>\n",
       "      <th>user_id</th>\n",
       "      <th>item_id</th>\n",
       "    </tr>\n",
       "  </thead>\n",
       "  <tbody>\n",
       "    <tr>\n",
       "      <td>0</td>\n",
       "      <td>2070</td>\n",
       "      <td>834103</td>\n",
       "    </tr>\n",
       "    <tr>\n",
       "      <td>1</td>\n",
       "      <td>2070</td>\n",
       "      <td>878302</td>\n",
       "    </tr>\n",
       "    <tr>\n",
       "      <td>2</td>\n",
       "      <td>2070</td>\n",
       "      <td>1119399</td>\n",
       "    </tr>\n",
       "    <tr>\n",
       "      <td>3</td>\n",
       "      <td>2070</td>\n",
       "      <td>1085604</td>\n",
       "    </tr>\n",
       "    <tr>\n",
       "      <td>4</td>\n",
       "      <td>2070</td>\n",
       "      <td>13511722</td>\n",
       "    </tr>\n",
       "  </tbody>\n",
       "</table>\n",
       "</div>"
      ],
      "text/plain": [
       "   user_id   item_id\n",
       "0     2070    834103\n",
       "1     2070    878302\n",
       "2     2070   1119399\n",
       "3     2070   1085604\n",
       "4     2070  13511722"
      ]
     },
     "execution_count": 19,
     "metadata": {},
     "output_type": "execute_result"
    }
   ],
   "source": [
    "# формирование фрейма для 2го уровня модели\n",
    "\n",
    "# вытаскиваем всех пользователей\n",
    "users_array = result_lvl2['user_id'].values\n",
    "\n",
    "# вытаскиваем все items\n",
    "candidates_lists = result_lvl2['candidates']\n",
    "len_candidates= len(candidates_lists[0])\n",
    "candidates_array = candidates_lists.values\n",
    "\n",
    "# формируем фрейм с спрогнозированными результатами\n",
    "df = pd.DataFrame({'user_id':users_array.repeat(len_candidates),\n",
    "                   'item_id':np.concatenate(candidates_array)})\n",
    "df.head()"
   ]
  },
  {
   "cell_type": "code",
   "execution_count": 20,
   "metadata": {},
   "outputs": [
    {
     "data": {
      "text/html": [
       "<div>\n",
       "<style scoped>\n",
       "    .dataframe tbody tr th:only-of-type {\n",
       "        vertical-align: middle;\n",
       "    }\n",
       "\n",
       "    .dataframe tbody tr th {\n",
       "        vertical-align: top;\n",
       "    }\n",
       "\n",
       "    .dataframe thead th {\n",
       "        text-align: right;\n",
       "    }\n",
       "</style>\n",
       "<table border=\"1\" class=\"dataframe\">\n",
       "  <thead>\n",
       "    <tr style=\"text-align: right;\">\n",
       "      <th></th>\n",
       "      <th>user_id</th>\n",
       "      <th>item_id</th>\n",
       "      <th>target</th>\n",
       "    </tr>\n",
       "  </thead>\n",
       "  <tbody>\n",
       "    <tr>\n",
       "      <td>0</td>\n",
       "      <td>2070</td>\n",
       "      <td>834103</td>\n",
       "      <td>1.0</td>\n",
       "    </tr>\n",
       "    <tr>\n",
       "      <td>1</td>\n",
       "      <td>2070</td>\n",
       "      <td>834103</td>\n",
       "      <td>1.0</td>\n",
       "    </tr>\n",
       "    <tr>\n",
       "      <td>2</td>\n",
       "      <td>2070</td>\n",
       "      <td>834103</td>\n",
       "      <td>1.0</td>\n",
       "    </tr>\n",
       "    <tr>\n",
       "      <td>3</td>\n",
       "      <td>2070</td>\n",
       "      <td>834103</td>\n",
       "      <td>1.0</td>\n",
       "    </tr>\n",
       "    <tr>\n",
       "      <td>4</td>\n",
       "      <td>2070</td>\n",
       "      <td>834103</td>\n",
       "      <td>1.0</td>\n",
       "    </tr>\n",
       "    <tr>\n",
       "      <td>...</td>\n",
       "      <td>...</td>\n",
       "      <td>...</td>\n",
       "      <td>...</td>\n",
       "    </tr>\n",
       "    <tr>\n",
       "      <td>249253</td>\n",
       "      <td>832</td>\n",
       "      <td>1085604</td>\n",
       "      <td>0.0</td>\n",
       "    </tr>\n",
       "    <tr>\n",
       "      <td>249254</td>\n",
       "      <td>832</td>\n",
       "      <td>986912</td>\n",
       "      <td>0.0</td>\n",
       "    </tr>\n",
       "    <tr>\n",
       "      <td>249255</td>\n",
       "      <td>832</td>\n",
       "      <td>1053690</td>\n",
       "      <td>0.0</td>\n",
       "    </tr>\n",
       "    <tr>\n",
       "      <td>249256</td>\n",
       "      <td>832</td>\n",
       "      <td>834484</td>\n",
       "      <td>0.0</td>\n",
       "    </tr>\n",
       "    <tr>\n",
       "      <td>249257</td>\n",
       "      <td>832</td>\n",
       "      <td>994928</td>\n",
       "      <td>0.0</td>\n",
       "    </tr>\n",
       "  </tbody>\n",
       "</table>\n",
       "<p>249258 rows × 3 columns</p>\n",
       "</div>"
      ],
      "text/plain": [
       "        user_id  item_id  target\n",
       "0          2070   834103     1.0\n",
       "1          2070   834103     1.0\n",
       "2          2070   834103     1.0\n",
       "3          2070   834103     1.0\n",
       "4          2070   834103     1.0\n",
       "...         ...      ...     ...\n",
       "249253      832  1085604     0.0\n",
       "249254      832   986912     0.0\n",
       "249255      832  1053690     0.0\n",
       "249256      832   834484     0.0\n",
       "249257      832   994928     0.0\n",
       "\n",
       "[249258 rows x 3 columns]"
      ]
     },
     "execution_count": 20,
     "metadata": {},
     "output_type": "execute_result"
    }
   ],
   "source": [
    "# Формируем фрейм рекоммендаций user_item\n",
    "\n",
    "# фиксируем фактическое взаимодействие\n",
    "targets_train_lvl2 = train_lvl2[['user_id', 'item_id']].copy()\n",
    "# отмечаем их как 1\n",
    "targets_train_lvl2['target'] = 1\n",
    "\n",
    "# объединяем фрейм фактического взаимодействия с предсказанным по совпадению пользователь-товар\n",
    "targets_train_lvl2 = df.merge(targets_train_lvl2, on=['user_id', 'item_id'], how='left')\n",
    "# если появятся не зафиксированные взаимодействия, отметим их как 0 \n",
    "targets_train_lvl2['target'].fillna(0, inplace=True)\n",
    "\n",
    "targets_train_lvl2"
   ]
  },
  {
   "cell_type": "markdown",
   "metadata": {},
   "source": [
    "#### Добавление фичей"
   ]
  },
  {
   "cell_type": "code",
   "execution_count": 21,
   "metadata": {},
   "outputs": [
    {
     "data": {
      "text/html": [
       "<div>\n",
       "<style scoped>\n",
       "    .dataframe tbody tr th:only-of-type {\n",
       "        vertical-align: middle;\n",
       "    }\n",
       "\n",
       "    .dataframe tbody tr th {\n",
       "        vertical-align: top;\n",
       "    }\n",
       "\n",
       "    .dataframe thead th {\n",
       "        text-align: right;\n",
       "    }\n",
       "</style>\n",
       "<table border=\"1\" class=\"dataframe\">\n",
       "  <thead>\n",
       "    <tr style=\"text-align: right;\">\n",
       "      <th></th>\n",
       "      <th>user_id</th>\n",
       "      <th>item_id</th>\n",
       "      <th>target</th>\n",
       "      <th>manufacturer</th>\n",
       "      <th>department</th>\n",
       "      <th>brand</th>\n",
       "      <th>commodity_desc</th>\n",
       "      <th>sub_commodity_desc</th>\n",
       "      <th>curr_size_of_product</th>\n",
       "      <th>age_desc</th>\n",
       "      <th>marital_status_code</th>\n",
       "      <th>income_desc</th>\n",
       "      <th>homeowner_desc</th>\n",
       "      <th>hh_comp_desc</th>\n",
       "      <th>household_size_desc</th>\n",
       "      <th>kid_category_desc</th>\n",
       "    </tr>\n",
       "  </thead>\n",
       "  <tbody>\n",
       "    <tr>\n",
       "      <td>0</td>\n",
       "      <td>2070</td>\n",
       "      <td>834103</td>\n",
       "      <td>1.0</td>\n",
       "      <td>2224</td>\n",
       "      <td>GROCERY</td>\n",
       "      <td>National</td>\n",
       "      <td>SOFT DRINKS</td>\n",
       "      <td>SFT DRNK SNGL SRV BTL CARB (EX</td>\n",
       "      <td>20 OZ</td>\n",
       "      <td>45-54</td>\n",
       "      <td>U</td>\n",
       "      <td>50-74K</td>\n",
       "      <td>Unknown</td>\n",
       "      <td>Unknown</td>\n",
       "      <td>1</td>\n",
       "      <td>None/Unknown</td>\n",
       "    </tr>\n",
       "    <tr>\n",
       "      <td>1</td>\n",
       "      <td>2070</td>\n",
       "      <td>834103</td>\n",
       "      <td>1.0</td>\n",
       "      <td>2224</td>\n",
       "      <td>GROCERY</td>\n",
       "      <td>National</td>\n",
       "      <td>SOFT DRINKS</td>\n",
       "      <td>SFT DRNK SNGL SRV BTL CARB (EX</td>\n",
       "      <td>20 OZ</td>\n",
       "      <td>45-54</td>\n",
       "      <td>U</td>\n",
       "      <td>50-74K</td>\n",
       "      <td>Unknown</td>\n",
       "      <td>Unknown</td>\n",
       "      <td>1</td>\n",
       "      <td>None/Unknown</td>\n",
       "    </tr>\n",
       "    <tr>\n",
       "      <td>2</td>\n",
       "      <td>2070</td>\n",
       "      <td>834103</td>\n",
       "      <td>1.0</td>\n",
       "      <td>2224</td>\n",
       "      <td>GROCERY</td>\n",
       "      <td>National</td>\n",
       "      <td>SOFT DRINKS</td>\n",
       "      <td>SFT DRNK SNGL SRV BTL CARB (EX</td>\n",
       "      <td>20 OZ</td>\n",
       "      <td>45-54</td>\n",
       "      <td>U</td>\n",
       "      <td>50-74K</td>\n",
       "      <td>Unknown</td>\n",
       "      <td>Unknown</td>\n",
       "      <td>1</td>\n",
       "      <td>None/Unknown</td>\n",
       "    </tr>\n",
       "    <tr>\n",
       "      <td>3</td>\n",
       "      <td>2070</td>\n",
       "      <td>834103</td>\n",
       "      <td>1.0</td>\n",
       "      <td>2224</td>\n",
       "      <td>GROCERY</td>\n",
       "      <td>National</td>\n",
       "      <td>SOFT DRINKS</td>\n",
       "      <td>SFT DRNK SNGL SRV BTL CARB (EX</td>\n",
       "      <td>20 OZ</td>\n",
       "      <td>45-54</td>\n",
       "      <td>U</td>\n",
       "      <td>50-74K</td>\n",
       "      <td>Unknown</td>\n",
       "      <td>Unknown</td>\n",
       "      <td>1</td>\n",
       "      <td>None/Unknown</td>\n",
       "    </tr>\n",
       "    <tr>\n",
       "      <td>4</td>\n",
       "      <td>2070</td>\n",
       "      <td>834103</td>\n",
       "      <td>1.0</td>\n",
       "      <td>2224</td>\n",
       "      <td>GROCERY</td>\n",
       "      <td>National</td>\n",
       "      <td>SOFT DRINKS</td>\n",
       "      <td>SFT DRNK SNGL SRV BTL CARB (EX</td>\n",
       "      <td>20 OZ</td>\n",
       "      <td>45-54</td>\n",
       "      <td>U</td>\n",
       "      <td>50-74K</td>\n",
       "      <td>Unknown</td>\n",
       "      <td>Unknown</td>\n",
       "      <td>1</td>\n",
       "      <td>None/Unknown</td>\n",
       "    </tr>\n",
       "  </tbody>\n",
       "</table>\n",
       "</div>"
      ],
      "text/plain": [
       "   user_id  item_id  target  manufacturer department     brand commodity_desc  \\\n",
       "0     2070   834103     1.0          2224    GROCERY  National    SOFT DRINKS   \n",
       "1     2070   834103     1.0          2224    GROCERY  National    SOFT DRINKS   \n",
       "2     2070   834103     1.0          2224    GROCERY  National    SOFT DRINKS   \n",
       "3     2070   834103     1.0          2224    GROCERY  National    SOFT DRINKS   \n",
       "4     2070   834103     1.0          2224    GROCERY  National    SOFT DRINKS   \n",
       "\n",
       "               sub_commodity_desc curr_size_of_product age_desc  \\\n",
       "0  SFT DRNK SNGL SRV BTL CARB (EX                20 OZ    45-54   \n",
       "1  SFT DRNK SNGL SRV BTL CARB (EX                20 OZ    45-54   \n",
       "2  SFT DRNK SNGL SRV BTL CARB (EX                20 OZ    45-54   \n",
       "3  SFT DRNK SNGL SRV BTL CARB (EX                20 OZ    45-54   \n",
       "4  SFT DRNK SNGL SRV BTL CARB (EX                20 OZ    45-54   \n",
       "\n",
       "  marital_status_code income_desc homeowner_desc hh_comp_desc  \\\n",
       "0                   U      50-74K        Unknown      Unknown   \n",
       "1                   U      50-74K        Unknown      Unknown   \n",
       "2                   U      50-74K        Unknown      Unknown   \n",
       "3                   U      50-74K        Unknown      Unknown   \n",
       "4                   U      50-74K        Unknown      Unknown   \n",
       "\n",
       "  household_size_desc kid_category_desc  \n",
       "0                   1      None/Unknown  \n",
       "1                   1      None/Unknown  \n",
       "2                   1      None/Unknown  \n",
       "3                   1      None/Unknown  \n",
       "4                   1      None/Unknown  "
      ]
     },
     "execution_count": 21,
     "metadata": {},
     "output_type": "execute_result"
    }
   ],
   "source": [
    "# Добавляем фичи для user, items и user_items\n",
    "targets_train_lvl2 = targets_train_lvl2.merge(item_features, on='item_id', how='left')\n",
    "targets_train_lvl2 = targets_train_lvl2.merge(user_features, on='user_id', how='left')\n",
    "\n",
    "targets_train_lvl2.head()"
   ]
  },
  {
   "cell_type": "markdown",
   "metadata": {},
   "source": [
    "#### Разбиваем таргет на X, y"
   ]
  },
  {
   "cell_type": "code",
   "execution_count": 22,
   "metadata": {},
   "outputs": [],
   "source": [
    "X_train = targets_train_lvl2.drop('target', axis=1)\n",
    "y_train = targets_train_lvl2[['target']]\n",
    "\n",
    "# Отмечаем категориальные признаки\n",
    "cat_feats = X_train.columns[2:].tolist()\n",
    "X_train[cat_feats] = X_train[cat_feats].astype('category')"
   ]
  },
  {
   "cell_type": "markdown",
   "metadata": {},
   "source": [
    "### Обучение LightGBM"
   ]
  },
  {
   "cell_type": "code",
   "execution_count": 23,
   "metadata": {},
   "outputs": [
    {
     "data": {
      "text/plain": [
       "array([1., 1., 1., ..., 0., 0., 0.])"
      ]
     },
     "execution_count": 23,
     "metadata": {},
     "output_type": "execute_result"
    }
   ],
   "source": [
    "lgb = LGBMClassifier(objective='binary', max_depth=7, categorical_column=cat_feats)\n",
    "lgb.fit(X_train, y_train)\n",
    "\n",
    "# прогнозирование train выборки\n",
    "train_preds = lgb.predict(X_train)\n",
    "train_preds"
   ]
  },
  {
   "cell_type": "markdown",
   "metadata": {},
   "source": [
    "### Оценка обучения 2го уровня модели (train)"
   ]
  },
  {
   "cell_type": "code",
   "execution_count": 24,
   "metadata": {},
   "outputs": [],
   "source": [
    "def eval_lgbm(targets, preds, k=5):\n",
    "    targets['recommend'] = preds\n",
    "    targets = targets[['user_id', 'item_id', 'target', 'recommend']]\n",
    "    \n",
    "    target = targets[targets['target'] == 1]\n",
    "    target = target.groupby('user_id')['item_id'].unique().reset_index()\n",
    "    target.columns = ['user_id', 'target']\n",
    "    \n",
    "    recommend = targets[targets['recommend'] == 1]\n",
    "    recommend = recommend.groupby('user_id')['item_id'].unique().reset_index()\n",
    "    recommend.columns = ['user_id', 'recommend']\n",
    "    \n",
    "    target_recommend = target.merge(recommend, on='user_id')\n",
    "    \n",
    "    result = evaluete_rec(data=target_recommend, true='target', metric='precision@k', k=k)\n",
    "    \n",
    "    return result"
   ]
  },
  {
   "cell_type": "code",
   "execution_count": 26,
   "metadata": {},
   "outputs": [
    {
     "name": "stdout",
     "output_type": "stream",
     "text": [
      "precision@5 (train) = 0.5162764771460436\n"
     ]
    }
   ],
   "source": [
    "print(f'precision@5 (train) = {eval_lgbm(targets=targets_train_lvl2, preds=train_preds)[0]}')"
   ]
  },
  {
   "cell_type": "markdown",
   "metadata": {},
   "source": [
    "## Формирование фремов для прогнозирования на test"
   ]
  },
  {
   "cell_type": "code",
   "execution_count": 29,
   "metadata": {},
   "outputs": [
    {
     "data": {
      "text/html": [
       "<div>\n",
       "<style scoped>\n",
       "    .dataframe tbody tr th:only-of-type {\n",
       "        vertical-align: middle;\n",
       "    }\n",
       "\n",
       "    .dataframe tbody tr th {\n",
       "        vertical-align: top;\n",
       "    }\n",
       "\n",
       "    .dataframe thead th {\n",
       "        text-align: right;\n",
       "    }\n",
       "</style>\n",
       "<table border=\"1\" class=\"dataframe\">\n",
       "  <thead>\n",
       "    <tr style=\"text-align: right;\">\n",
       "      <th></th>\n",
       "      <th>user_id</th>\n",
       "      <th>item_id</th>\n",
       "      <th>target</th>\n",
       "    </tr>\n",
       "  </thead>\n",
       "  <tbody>\n",
       "    <tr>\n",
       "      <td>0</td>\n",
       "      <td>2070</td>\n",
       "      <td>834103</td>\n",
       "      <td>1.0</td>\n",
       "    </tr>\n",
       "    <tr>\n",
       "      <td>1</td>\n",
       "      <td>2070</td>\n",
       "      <td>834103</td>\n",
       "      <td>1.0</td>\n",
       "    </tr>\n",
       "    <tr>\n",
       "      <td>2</td>\n",
       "      <td>2070</td>\n",
       "      <td>834103</td>\n",
       "      <td>1.0</td>\n",
       "    </tr>\n",
       "    <tr>\n",
       "      <td>3</td>\n",
       "      <td>2070</td>\n",
       "      <td>834103</td>\n",
       "      <td>1.0</td>\n",
       "    </tr>\n",
       "    <tr>\n",
       "      <td>4</td>\n",
       "      <td>2070</td>\n",
       "      <td>834103</td>\n",
       "      <td>1.0</td>\n",
       "    </tr>\n",
       "    <tr>\n",
       "      <td>...</td>\n",
       "      <td>...</td>\n",
       "      <td>...</td>\n",
       "      <td>...</td>\n",
       "    </tr>\n",
       "    <tr>\n",
       "      <td>231081</td>\n",
       "      <td>832</td>\n",
       "      <td>1085604</td>\n",
       "      <td>0.0</td>\n",
       "    </tr>\n",
       "    <tr>\n",
       "      <td>231082</td>\n",
       "      <td>832</td>\n",
       "      <td>986912</td>\n",
       "      <td>0.0</td>\n",
       "    </tr>\n",
       "    <tr>\n",
       "      <td>231083</td>\n",
       "      <td>832</td>\n",
       "      <td>1053690</td>\n",
       "      <td>0.0</td>\n",
       "    </tr>\n",
       "    <tr>\n",
       "      <td>231084</td>\n",
       "      <td>832</td>\n",
       "      <td>834484</td>\n",
       "      <td>0.0</td>\n",
       "    </tr>\n",
       "    <tr>\n",
       "      <td>231085</td>\n",
       "      <td>832</td>\n",
       "      <td>994928</td>\n",
       "      <td>0.0</td>\n",
       "    </tr>\n",
       "  </tbody>\n",
       "</table>\n",
       "<p>231086 rows × 3 columns</p>\n",
       "</div>"
      ],
      "text/plain": [
       "        user_id  item_id  target\n",
       "0          2070   834103     1.0\n",
       "1          2070   834103     1.0\n",
       "2          2070   834103     1.0\n",
       "3          2070   834103     1.0\n",
       "4          2070   834103     1.0\n",
       "...         ...      ...     ...\n",
       "231081      832  1085604     0.0\n",
       "231082      832   986912     0.0\n",
       "231083      832  1053690     0.0\n",
       "231084      832   834484     0.0\n",
       "231085      832   994928     0.0\n",
       "\n",
       "[231086 rows x 3 columns]"
      ]
     },
     "execution_count": 29,
     "metadata": {},
     "output_type": "execute_result"
    }
   ],
   "source": [
    "targets_test_lvl2 = test[['user_id', 'item_id']].copy()\n",
    "targets_test_lvl2['target'] = 1\n",
    "\n",
    "targets_test_lvl2 = df.merge(targets_test_lvl2, on=['user_id', 'item_id'], how='left')\n",
    "\n",
    "targets_test_lvl2['target'].fillna(0, inplace= True)\n",
    "\n",
    "targets_test_lvl2"
   ]
  },
  {
   "cell_type": "code",
   "execution_count": 31,
   "metadata": {},
   "outputs": [
    {
     "data": {
      "text/html": [
       "<div>\n",
       "<style scoped>\n",
       "    .dataframe tbody tr th:only-of-type {\n",
       "        vertical-align: middle;\n",
       "    }\n",
       "\n",
       "    .dataframe tbody tr th {\n",
       "        vertical-align: top;\n",
       "    }\n",
       "\n",
       "    .dataframe thead th {\n",
       "        text-align: right;\n",
       "    }\n",
       "</style>\n",
       "<table border=\"1\" class=\"dataframe\">\n",
       "  <thead>\n",
       "    <tr style=\"text-align: right;\">\n",
       "      <th></th>\n",
       "      <th>user_id</th>\n",
       "      <th>item_id</th>\n",
       "      <th>target</th>\n",
       "      <th>manufacturer</th>\n",
       "      <th>department</th>\n",
       "      <th>brand</th>\n",
       "      <th>commodity_desc</th>\n",
       "      <th>sub_commodity_desc</th>\n",
       "      <th>curr_size_of_product</th>\n",
       "      <th>age_desc</th>\n",
       "      <th>marital_status_code</th>\n",
       "      <th>income_desc</th>\n",
       "      <th>homeowner_desc</th>\n",
       "      <th>hh_comp_desc</th>\n",
       "      <th>household_size_desc</th>\n",
       "      <th>kid_category_desc</th>\n",
       "    </tr>\n",
       "  </thead>\n",
       "  <tbody>\n",
       "    <tr>\n",
       "      <td>0</td>\n",
       "      <td>2070</td>\n",
       "      <td>834103</td>\n",
       "      <td>1.0</td>\n",
       "      <td>2224</td>\n",
       "      <td>GROCERY</td>\n",
       "      <td>National</td>\n",
       "      <td>SOFT DRINKS</td>\n",
       "      <td>SFT DRNK SNGL SRV BTL CARB (EX</td>\n",
       "      <td>20 OZ</td>\n",
       "      <td>45-54</td>\n",
       "      <td>U</td>\n",
       "      <td>50-74K</td>\n",
       "      <td>Unknown</td>\n",
       "      <td>Unknown</td>\n",
       "      <td>1</td>\n",
       "      <td>None/Unknown</td>\n",
       "    </tr>\n",
       "    <tr>\n",
       "      <td>1</td>\n",
       "      <td>2070</td>\n",
       "      <td>834103</td>\n",
       "      <td>1.0</td>\n",
       "      <td>2224</td>\n",
       "      <td>GROCERY</td>\n",
       "      <td>National</td>\n",
       "      <td>SOFT DRINKS</td>\n",
       "      <td>SFT DRNK SNGL SRV BTL CARB (EX</td>\n",
       "      <td>20 OZ</td>\n",
       "      <td>45-54</td>\n",
       "      <td>U</td>\n",
       "      <td>50-74K</td>\n",
       "      <td>Unknown</td>\n",
       "      <td>Unknown</td>\n",
       "      <td>1</td>\n",
       "      <td>None/Unknown</td>\n",
       "    </tr>\n",
       "    <tr>\n",
       "      <td>2</td>\n",
       "      <td>2070</td>\n",
       "      <td>834103</td>\n",
       "      <td>1.0</td>\n",
       "      <td>2224</td>\n",
       "      <td>GROCERY</td>\n",
       "      <td>National</td>\n",
       "      <td>SOFT DRINKS</td>\n",
       "      <td>SFT DRNK SNGL SRV BTL CARB (EX</td>\n",
       "      <td>20 OZ</td>\n",
       "      <td>45-54</td>\n",
       "      <td>U</td>\n",
       "      <td>50-74K</td>\n",
       "      <td>Unknown</td>\n",
       "      <td>Unknown</td>\n",
       "      <td>1</td>\n",
       "      <td>None/Unknown</td>\n",
       "    </tr>\n",
       "    <tr>\n",
       "      <td>3</td>\n",
       "      <td>2070</td>\n",
       "      <td>834103</td>\n",
       "      <td>1.0</td>\n",
       "      <td>2224</td>\n",
       "      <td>GROCERY</td>\n",
       "      <td>National</td>\n",
       "      <td>SOFT DRINKS</td>\n",
       "      <td>SFT DRNK SNGL SRV BTL CARB (EX</td>\n",
       "      <td>20 OZ</td>\n",
       "      <td>45-54</td>\n",
       "      <td>U</td>\n",
       "      <td>50-74K</td>\n",
       "      <td>Unknown</td>\n",
       "      <td>Unknown</td>\n",
       "      <td>1</td>\n",
       "      <td>None/Unknown</td>\n",
       "    </tr>\n",
       "    <tr>\n",
       "      <td>4</td>\n",
       "      <td>2070</td>\n",
       "      <td>834103</td>\n",
       "      <td>1.0</td>\n",
       "      <td>2224</td>\n",
       "      <td>GROCERY</td>\n",
       "      <td>National</td>\n",
       "      <td>SOFT DRINKS</td>\n",
       "      <td>SFT DRNK SNGL SRV BTL CARB (EX</td>\n",
       "      <td>20 OZ</td>\n",
       "      <td>45-54</td>\n",
       "      <td>U</td>\n",
       "      <td>50-74K</td>\n",
       "      <td>Unknown</td>\n",
       "      <td>Unknown</td>\n",
       "      <td>1</td>\n",
       "      <td>None/Unknown</td>\n",
       "    </tr>\n",
       "  </tbody>\n",
       "</table>\n",
       "</div>"
      ],
      "text/plain": [
       "   user_id  item_id  target  manufacturer department     brand commodity_desc  \\\n",
       "0     2070   834103     1.0          2224    GROCERY  National    SOFT DRINKS   \n",
       "1     2070   834103     1.0          2224    GROCERY  National    SOFT DRINKS   \n",
       "2     2070   834103     1.0          2224    GROCERY  National    SOFT DRINKS   \n",
       "3     2070   834103     1.0          2224    GROCERY  National    SOFT DRINKS   \n",
       "4     2070   834103     1.0          2224    GROCERY  National    SOFT DRINKS   \n",
       "\n",
       "               sub_commodity_desc curr_size_of_product age_desc  \\\n",
       "0  SFT DRNK SNGL SRV BTL CARB (EX                20 OZ    45-54   \n",
       "1  SFT DRNK SNGL SRV BTL CARB (EX                20 OZ    45-54   \n",
       "2  SFT DRNK SNGL SRV BTL CARB (EX                20 OZ    45-54   \n",
       "3  SFT DRNK SNGL SRV BTL CARB (EX                20 OZ    45-54   \n",
       "4  SFT DRNK SNGL SRV BTL CARB (EX                20 OZ    45-54   \n",
       "\n",
       "  marital_status_code income_desc homeowner_desc hh_comp_desc  \\\n",
       "0                   U      50-74K        Unknown      Unknown   \n",
       "1                   U      50-74K        Unknown      Unknown   \n",
       "2                   U      50-74K        Unknown      Unknown   \n",
       "3                   U      50-74K        Unknown      Unknown   \n",
       "4                   U      50-74K        Unknown      Unknown   \n",
       "\n",
       "  household_size_desc kid_category_desc  \n",
       "0                   1      None/Unknown  \n",
       "1                   1      None/Unknown  \n",
       "2                   1      None/Unknown  \n",
       "3                   1      None/Unknown  \n",
       "4                   1      None/Unknown  "
      ]
     },
     "execution_count": 31,
     "metadata": {},
     "output_type": "execute_result"
    }
   ],
   "source": [
    "targets_test_lvl2 = targets_test_lvl2.merge(item_features, on='item_id', how='left')\n",
    "targets_test_lvl2 = targets_test_lvl2.merge(user_features, on='user_id', how='left')\n",
    "\n",
    "targets_test_lvl2.head()"
   ]
  },
  {
   "cell_type": "code",
   "execution_count": 32,
   "metadata": {},
   "outputs": [],
   "source": [
    "X_test = targets_test_lvl2.drop('target', axis=1)\n",
    "y_test = targets_test_lvl2[['target']]\n",
    "\n",
    "X_test[cat_feats] = X_test[cat_feats].astype('category')"
   ]
  },
  {
   "cell_type": "markdown",
   "metadata": {},
   "source": [
    "## Прогноз и оценка результатов на test"
   ]
  },
  {
   "cell_type": "code",
   "execution_count": 33,
   "metadata": {},
   "outputs": [
    {
     "data": {
      "text/plain": [
       "array([1., 1., 1., ..., 0., 0., 0.])"
      ]
     },
     "execution_count": 33,
     "metadata": {},
     "output_type": "execute_result"
    }
   ],
   "source": [
    "test_preds = lgb.predict(X_test)\n",
    "test_preds"
   ]
  },
  {
   "cell_type": "code",
   "execution_count": 34,
   "metadata": {},
   "outputs": [
    {
     "name": "stdout",
     "output_type": "stream",
     "text": [
      "precision@5 (train) = 0.27946277495769895\n"
     ]
    }
   ],
   "source": [
    "print(f'precision@5 (train) = {eval_lgbm(targets=targets_test_lvl2, preds=test_preds)[0]}')"
   ]
  },
  {
   "cell_type": "markdown",
   "metadata": {},
   "source": [
    "## Вывод\n",
    "\n",
    "- Двухуровневая модель выдала результат > 0.27 - цель достигнута"
   ]
  }
 ],
 "metadata": {
  "kernelspec": {
   "display_name": "Python 3",
   "language": "python",
   "name": "python3"
  },
  "language_info": {
   "codemirror_mode": {
    "name": "ipython",
    "version": 3
   },
   "file_extension": ".py",
   "mimetype": "text/x-python",
   "name": "python",
   "nbconvert_exporter": "python",
   "pygments_lexer": "ipython3",
   "version": "3.7.4"
  }
 },
 "nbformat": 4,
 "nbformat_minor": 2
}
